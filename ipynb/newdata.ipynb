{
  "nbformat": 4,
  "nbformat_minor": 0,
  "metadata": {
    "colab": {
      "name": "newdata.ipynb",
      "provenance": [],
      "authorship_tag": "ABX9TyPmPTLR6/Fi51/vktrexcPX",
      "include_colab_link": true
    },
    "kernelspec": {
      "name": "python3",
      "display_name": "Python 3"
    },
    "language_info": {
      "name": "python"
    }
  },
  "cells": [
    {
      "cell_type": "markdown",
      "metadata": {
        "id": "view-in-github",
        "colab_type": "text"
      },
      "source": [
        "<a href=\"https://colab.research.google.com/github/dhivyasreedhar/Movie-Recommendation-System/blob/main/newdata.ipynb\" target=\"_parent\"><img src=\"https://colab.research.google.com/assets/colab-badge.svg\" alt=\"Open In Colab\"/></a>"
      ]
    },
    {
      "cell_type": "code",
      "metadata": {
        "id": "-Ex5WEfFYS9q"
      },
      "source": [
        "import numpy as np\n",
        "import pandas as pd"
      ],
      "execution_count": 4,
      "outputs": []
    },
    {
      "cell_type": "code",
      "metadata": {
        "colab": {
          "base_uri": "https://localhost:8080/"
        },
        "id": "d2kitBVka5iH",
        "outputId": "6d75a8ae-26bf-41e4-b737-6d8c7f1bec5c"
      },
      "source": [
        "credits = pd.read_csv('/content/credits.csv',engine='python', encoding='utf-8', error_bad_lines=False)"
      ],
      "execution_count": 21,
      "outputs": [
        {
          "output_type": "stream",
          "name": "stderr",
          "text": [
            "Skipping line 33583: unexpected end of data\n"
          ]
        }
      ]
    },
    {
      "cell_type": "code",
      "metadata": {
        "colab": {
          "base_uri": "https://localhost:8080/",
          "height": 419
        },
        "id": "TBEN1XkxeTPa",
        "outputId": "208827b8-f2c0-423a-d020-f50385c66049"
      },
      "source": [
        "credits"
      ],
      "execution_count": 22,
      "outputs": [
        {
          "output_type": "execute_result",
          "data": {
            "text/html": [
              "<div>\n",
              "<style scoped>\n",
              "    .dataframe tbody tr th:only-of-type {\n",
              "        vertical-align: middle;\n",
              "    }\n",
              "\n",
              "    .dataframe tbody tr th {\n",
              "        vertical-align: top;\n",
              "    }\n",
              "\n",
              "    .dataframe thead th {\n",
              "        text-align: right;\n",
              "    }\n",
              "</style>\n",
              "<table border=\"1\" class=\"dataframe\">\n",
              "  <thead>\n",
              "    <tr style=\"text-align: right;\">\n",
              "      <th></th>\n",
              "      <th>cast</th>\n",
              "      <th>crew</th>\n",
              "      <th>id</th>\n",
              "    </tr>\n",
              "  </thead>\n",
              "  <tbody>\n",
              "    <tr>\n",
              "      <th>0</th>\n",
              "      <td>[{'cast_id': 14, 'character': 'Woody (voice)',...</td>\n",
              "      <td>[{'credit_id': '52fe4284c3a36847f8024f49', 'de...</td>\n",
              "      <td>862</td>\n",
              "    </tr>\n",
              "    <tr>\n",
              "      <th>1</th>\n",
              "      <td>[{'cast_id': 1, 'character': 'Alan Parrish', '...</td>\n",
              "      <td>[{'credit_id': '52fe44bfc3a36847f80a7cd1', 'de...</td>\n",
              "      <td>8844</td>\n",
              "    </tr>\n",
              "    <tr>\n",
              "      <th>2</th>\n",
              "      <td>[{'cast_id': 2, 'character': 'Max Goldman', 'c...</td>\n",
              "      <td>[{'credit_id': '52fe466a9251416c75077a89', 'de...</td>\n",
              "      <td>15602</td>\n",
              "    </tr>\n",
              "    <tr>\n",
              "      <th>3</th>\n",
              "      <td>[{'cast_id': 1, 'character': \"Savannah 'Vannah...</td>\n",
              "      <td>[{'credit_id': '52fe44779251416c91011acb', 'de...</td>\n",
              "      <td>31357</td>\n",
              "    </tr>\n",
              "    <tr>\n",
              "      <th>4</th>\n",
              "      <td>[{'cast_id': 1, 'character': 'George Banks', '...</td>\n",
              "      <td>[{'credit_id': '52fe44959251416c75039ed7', 'de...</td>\n",
              "      <td>11862</td>\n",
              "    </tr>\n",
              "    <tr>\n",
              "      <th>...</th>\n",
              "      <td>...</td>\n",
              "      <td>...</td>\n",
              "      <td>...</td>\n",
              "    </tr>\n",
              "    <tr>\n",
              "      <th>33576</th>\n",
              "      <td>[{'cast_id': 2, 'character': 'Elmer Kane', 'cr...</td>\n",
              "      <td>[{'credit_id': '597b3d31c3a3683708010357', 'de...</td>\n",
              "      <td>111460</td>\n",
              "    </tr>\n",
              "    <tr>\n",
              "      <th>33577</th>\n",
              "      <td>[{'cast_id': 0, 'character': 'Adolf Hitler', '...</td>\n",
              "      <td>[{'credit_id': '54c0ed2dc3a368789b001748', 'de...</td>\n",
              "      <td>318917</td>\n",
              "    </tr>\n",
              "    <tr>\n",
              "      <th>33578</th>\n",
              "      <td>[{'cast_id': 2, 'character': '', 'credit_id': ...</td>\n",
              "      <td>[{'credit_id': '52fe4e68c3a36847f828e699', 'de...</td>\n",
              "      <td>237303</td>\n",
              "    </tr>\n",
              "    <tr>\n",
              "      <th>33579</th>\n",
              "      <td>[{'cast_id': 1017, 'character': 'Shaman', 'cre...</td>\n",
              "      <td>[{'credit_id': '52fe49dac3a368484e1439a7', 'de...</td>\n",
              "      <td>79580</td>\n",
              "    </tr>\n",
              "    <tr>\n",
              "      <th>33580</th>\n",
              "      <td>[{'cast_id': 10, 'character': 'Frederica Morga...</td>\n",
              "      <td>[{'credit_id': '52fe444c9251416c9100bc95', 'de...</td>\n",
              "      <td>30933</td>\n",
              "    </tr>\n",
              "  </tbody>\n",
              "</table>\n",
              "<p>33581 rows × 3 columns</p>\n",
              "</div>"
            ],
            "text/plain": [
              "                                                    cast  ...      id\n",
              "0      [{'cast_id': 14, 'character': 'Woody (voice)',...  ...     862\n",
              "1      [{'cast_id': 1, 'character': 'Alan Parrish', '...  ...    8844\n",
              "2      [{'cast_id': 2, 'character': 'Max Goldman', 'c...  ...   15602\n",
              "3      [{'cast_id': 1, 'character': \"Savannah 'Vannah...  ...   31357\n",
              "4      [{'cast_id': 1, 'character': 'George Banks', '...  ...   11862\n",
              "...                                                  ...  ...     ...\n",
              "33576  [{'cast_id': 2, 'character': 'Elmer Kane', 'cr...  ...  111460\n",
              "33577  [{'cast_id': 0, 'character': 'Adolf Hitler', '...  ...  318917\n",
              "33578  [{'cast_id': 2, 'character': '', 'credit_id': ...  ...  237303\n",
              "33579  [{'cast_id': 1017, 'character': 'Shaman', 'cre...  ...   79580\n",
              "33580  [{'cast_id': 10, 'character': 'Frederica Morga...  ...   30933\n",
              "\n",
              "[33581 rows x 3 columns]"
            ]
          },
          "metadata": {},
          "execution_count": 22
        }
      ]
    },
    {
      "cell_type": "code",
      "metadata": {
        "colab": {
          "base_uri": "https://localhost:8080/"
        },
        "id": "bn7xIRu6fHfG",
        "outputId": "aaff6a16-5052-4667-89d6-f6c674de8f92"
      },
      "source": [
        "meta = pd.read_csv('/content/movies_metadata.csv')"
      ],
      "execution_count": 26,
      "outputs": [
        {
          "output_type": "stream",
          "name": "stderr",
          "text": [
            "/usr/local/lib/python3.7/dist-packages/IPython/core/interactiveshell.py:2718: DtypeWarning: Columns (10) have mixed types.Specify dtype option on import or set low_memory=False.\n",
            "  interactivity=interactivity, compiler=compiler, result=result)\n"
          ]
        }
      ]
    },
    {
      "cell_type": "code",
      "metadata": {
        "id": "I_Fe09OeewDh"
      },
      "source": [
        "meta['release_date'] = pd.to_datetime(meta['release_date'], errors='coerce')"
      ],
      "execution_count": 27,
      "outputs": []
    },
    {
      "cell_type": "code",
      "metadata": {
        "id": "z_p_JEeYgngU"
      },
      "source": [
        "meta['year'] = meta['release_date'].dt.year"
      ],
      "execution_count": 28,
      "outputs": []
    },
    {
      "cell_type": "code",
      "metadata": {
        "colab": {
          "base_uri": "https://localhost:8080/"
        },
        "id": "B7reSgnjgqpm",
        "outputId": "a554459a-9629-4aa3-d5f0-aae51209031f"
      },
      "source": [
        "meta['year'].value_counts().sort_index()"
      ],
      "execution_count": 29,
      "outputs": [
        {
          "output_type": "execute_result",
          "data": {
            "text/plain": [
              "1874.0       1\n",
              "1878.0       1\n",
              "1883.0       1\n",
              "1887.0       1\n",
              "1888.0       2\n",
              "          ... \n",
              "2015.0    1905\n",
              "2016.0    1604\n",
              "2017.0     532\n",
              "2018.0       5\n",
              "2020.0       1\n",
              "Name: year, Length: 135, dtype: int64"
            ]
          },
          "metadata": {},
          "execution_count": 29
        }
      ]
    },
    {
      "cell_type": "code",
      "metadata": {
        "id": "P1s2OgN9gulG"
      },
      "source": [
        "# Getting only 2017 movies as we already have movies up to the year 2016 in preprocessing 1 file. \n",
        "# We don't have enough data for the movies from 2018, 2019 and 2020. \n",
        "# We'll deal with it in the upcoming preprocessing files\n",
        "new_meta = meta.loc[meta.year == 2017,['genres','id','title','year']]"
      ],
      "execution_count": 30,
      "outputs": []
    },
    {
      "cell_type": "code",
      "metadata": {
        "colab": {
          "base_uri": "https://localhost:8080/",
          "height": 419
        },
        "id": "mf6iQacjgygJ",
        "outputId": "028d4356-2e2e-418b-d80a-d237de728b32"
      },
      "source": [
        "new_meta"
      ],
      "execution_count": 31,
      "outputs": [
        {
          "output_type": "execute_result",
          "data": {
            "text/html": [
              "<div>\n",
              "<style scoped>\n",
              "    .dataframe tbody tr th:only-of-type {\n",
              "        vertical-align: middle;\n",
              "    }\n",
              "\n",
              "    .dataframe tbody tr th {\n",
              "        vertical-align: top;\n",
              "    }\n",
              "\n",
              "    .dataframe thead th {\n",
              "        text-align: right;\n",
              "    }\n",
              "</style>\n",
              "<table border=\"1\" class=\"dataframe\">\n",
              "  <thead>\n",
              "    <tr style=\"text-align: right;\">\n",
              "      <th></th>\n",
              "      <th>genres</th>\n",
              "      <th>id</th>\n",
              "      <th>title</th>\n",
              "      <th>year</th>\n",
              "    </tr>\n",
              "  </thead>\n",
              "  <tbody>\n",
              "    <tr>\n",
              "      <th>26560</th>\n",
              "      <td>[{'id': 12, 'name': 'Adventure'}, {'id': 28, '...</td>\n",
              "      <td>166426</td>\n",
              "      <td>Pirates of the Caribbean: Dead Men Tell No Tales</td>\n",
              "      <td>2017.0</td>\n",
              "    </tr>\n",
              "    <tr>\n",
              "      <th>26561</th>\n",
              "      <td>[{'id': 28, 'name': 'Action'}, {'id': 12, 'nam...</td>\n",
              "      <td>141052</td>\n",
              "      <td>Justice League</td>\n",
              "      <td>2017.0</td>\n",
              "    </tr>\n",
              "    <tr>\n",
              "      <th>26565</th>\n",
              "      <td>[{'id': 28, 'name': 'Action'}, {'id': 12, 'nam...</td>\n",
              "      <td>284053</td>\n",
              "      <td>Thor: Ragnarok</td>\n",
              "      <td>2017.0</td>\n",
              "    </tr>\n",
              "    <tr>\n",
              "      <th>26566</th>\n",
              "      <td>[{'id': 28, 'name': 'Action'}, {'id': 12, 'nam...</td>\n",
              "      <td>283995</td>\n",
              "      <td>Guardians of the Galaxy Vol. 2</td>\n",
              "      <td>2017.0</td>\n",
              "    </tr>\n",
              "    <tr>\n",
              "      <th>30536</th>\n",
              "      <td>[{'id': 14, 'name': 'Fantasy'}, {'id': 28, 'na...</td>\n",
              "      <td>245842</td>\n",
              "      <td>The King's Daughter</td>\n",
              "      <td>2017.0</td>\n",
              "    </tr>\n",
              "    <tr>\n",
              "      <th>...</th>\n",
              "      <td>...</td>\n",
              "      <td>...</td>\n",
              "      <td>...</td>\n",
              "      <td>...</td>\n",
              "    </tr>\n",
              "    <tr>\n",
              "      <th>45398</th>\n",
              "      <td>[{'id': 10749, 'name': 'Romance'}, {'id': 35, ...</td>\n",
              "      <td>468707</td>\n",
              "      <td>Thick Lashes of Lauri Mäntyvaara</td>\n",
              "      <td>2017.0</td>\n",
              "    </tr>\n",
              "    <tr>\n",
              "      <th>45417</th>\n",
              "      <td>[{'id': 80, 'name': 'Crime'}, {'id': 35, 'name...</td>\n",
              "      <td>461297</td>\n",
              "      <td>Cop and a Half: New Recruit</td>\n",
              "      <td>2017.0</td>\n",
              "    </tr>\n",
              "    <tr>\n",
              "      <th>45437</th>\n",
              "      <td>[{'id': 10751, 'name': 'Family'}, {'id': 16, '...</td>\n",
              "      <td>455661</td>\n",
              "      <td>In a Heartbeat</td>\n",
              "      <td>2017.0</td>\n",
              "    </tr>\n",
              "    <tr>\n",
              "      <th>45453</th>\n",
              "      <td>[{'id': 80, 'name': 'Crime'}, {'id': 18, 'name...</td>\n",
              "      <td>404604</td>\n",
              "      <td>Mom</td>\n",
              "      <td>2017.0</td>\n",
              "    </tr>\n",
              "    <tr>\n",
              "      <th>45465</th>\n",
              "      <td>[]</td>\n",
              "      <td>461257</td>\n",
              "      <td>Queerama</td>\n",
              "      <td>2017.0</td>\n",
              "    </tr>\n",
              "  </tbody>\n",
              "</table>\n",
              "<p>532 rows × 4 columns</p>\n",
              "</div>"
            ],
            "text/plain": [
              "                                                  genres  ...    year\n",
              "26560  [{'id': 12, 'name': 'Adventure'}, {'id': 28, '...  ...  2017.0\n",
              "26561  [{'id': 28, 'name': 'Action'}, {'id': 12, 'nam...  ...  2017.0\n",
              "26565  [{'id': 28, 'name': 'Action'}, {'id': 12, 'nam...  ...  2017.0\n",
              "26566  [{'id': 28, 'name': 'Action'}, {'id': 12, 'nam...  ...  2017.0\n",
              "30536  [{'id': 14, 'name': 'Fantasy'}, {'id': 28, 'na...  ...  2017.0\n",
              "...                                                  ...  ...     ...\n",
              "45398  [{'id': 10749, 'name': 'Romance'}, {'id': 35, ...  ...  2017.0\n",
              "45417  [{'id': 80, 'name': 'Crime'}, {'id': 35, 'name...  ...  2017.0\n",
              "45437  [{'id': 10751, 'name': 'Family'}, {'id': 16, '...  ...  2017.0\n",
              "45453  [{'id': 80, 'name': 'Crime'}, {'id': 18, 'name...  ...  2017.0\n",
              "45465                                                 []  ...  2017.0\n",
              "\n",
              "[532 rows x 4 columns]"
            ]
          },
          "metadata": {},
          "execution_count": 31
        }
      ]
    },
    {
      "cell_type": "code",
      "metadata": {
        "id": "jYFLN96gg1X-"
      },
      "source": [
        "new_meta['id'] = new_meta['id'].astype(int)"
      ],
      "execution_count": 32,
      "outputs": []
    },
    {
      "cell_type": "code",
      "metadata": {
        "id": "r86jYQcUg4rZ"
      },
      "source": [
        "data = pd.merge(new_meta, credits, on='id')"
      ],
      "execution_count": 33,
      "outputs": []
    },
    {
      "cell_type": "code",
      "metadata": {
        "colab": {
          "base_uri": "https://localhost:8080/",
          "height": 673
        },
        "id": "s5zG-KKKg7RF",
        "outputId": "073a59cd-f855-4460-8944-f49795ae9d89"
      },
      "source": [
        "pd.set_option('display.max_colwidth', 75)\n",
        "data"
      ],
      "execution_count": 34,
      "outputs": [
        {
          "output_type": "execute_result",
          "data": {
            "text/html": [
              "<div>\n",
              "<style scoped>\n",
              "    .dataframe tbody tr th:only-of-type {\n",
              "        vertical-align: middle;\n",
              "    }\n",
              "\n",
              "    .dataframe tbody tr th {\n",
              "        vertical-align: top;\n",
              "    }\n",
              "\n",
              "    .dataframe thead th {\n",
              "        text-align: right;\n",
              "    }\n",
              "</style>\n",
              "<table border=\"1\" class=\"dataframe\">\n",
              "  <thead>\n",
              "    <tr style=\"text-align: right;\">\n",
              "      <th></th>\n",
              "      <th>genres</th>\n",
              "      <th>id</th>\n",
              "      <th>title</th>\n",
              "      <th>year</th>\n",
              "      <th>cast</th>\n",
              "      <th>crew</th>\n",
              "    </tr>\n",
              "  </thead>\n",
              "  <tbody>\n",
              "    <tr>\n",
              "      <th>0</th>\n",
              "      <td>[{'id': 12, 'name': 'Adventure'}, {'id': 28, 'name': 'Action'}, {'id': ...</td>\n",
              "      <td>166426</td>\n",
              "      <td>Pirates of the Caribbean: Dead Men Tell No Tales</td>\n",
              "      <td>2017.0</td>\n",
              "      <td>[{'cast_id': 1, 'character': 'Captain Jack Sparrow', 'credit_id': '52fe...</td>\n",
              "      <td>[{'credit_id': '52fe4c9cc3a36847f8236a65', 'department': 'Production', ...</td>\n",
              "    </tr>\n",
              "    <tr>\n",
              "      <th>1</th>\n",
              "      <td>[{'id': 28, 'name': 'Action'}, {'id': 12, 'name': 'Adventure'}, {'id': ...</td>\n",
              "      <td>141052</td>\n",
              "      <td>Justice League</td>\n",
              "      <td>2017.0</td>\n",
              "      <td>[{'cast_id': 2, 'character': 'Bruce Wayne / Batman', 'credit_id': '535e...</td>\n",
              "      <td>[{'credit_id': '55ef66dbc3a3686f1700a52d', 'department': 'Production', ...</td>\n",
              "    </tr>\n",
              "    <tr>\n",
              "      <th>2</th>\n",
              "      <td>[{'id': 28, 'name': 'Action'}, {'id': 12, 'name': 'Adventure'}, {'id': ...</td>\n",
              "      <td>284053</td>\n",
              "      <td>Thor: Ragnarok</td>\n",
              "      <td>2017.0</td>\n",
              "      <td>[{'cast_id': 0, 'character': 'Thor Odinson', 'credit_id': '545d46a80e0a...</td>\n",
              "      <td>[{'credit_id': '56a93fa4c3a36872db001e7a', 'department': 'Writing', 'ge...</td>\n",
              "    </tr>\n",
              "    <tr>\n",
              "      <th>3</th>\n",
              "      <td>[{'id': 28, 'name': 'Action'}, {'id': 12, 'name': 'Adventure'}, {'id': ...</td>\n",
              "      <td>283995</td>\n",
              "      <td>Guardians of the Galaxy Vol. 2</td>\n",
              "      <td>2017.0</td>\n",
              "      <td>[{'cast_id': 3, 'character': 'Peter Quill / Star-Lord', 'credit_id': '5...</td>\n",
              "      <td>[{'credit_id': '59171547925141583c0315a6', 'department': 'Sound', 'gend...</td>\n",
              "    </tr>\n",
              "    <tr>\n",
              "      <th>4</th>\n",
              "      <td>[{'id': 14, 'name': 'Fantasy'}, {'id': 28, 'name': 'Action'}, {'id': 12...</td>\n",
              "      <td>245842</td>\n",
              "      <td>The King's Daughter</td>\n",
              "      <td>2017.0</td>\n",
              "      <td>[{'cast_id': 0, 'character': 'King Louis XIV', 'credit_id': '5431dd580e...</td>\n",
              "      <td>[{'credit_id': '5431de49c3a36825d300007e', 'department': 'Directing', '...</td>\n",
              "    </tr>\n",
              "    <tr>\n",
              "      <th>5</th>\n",
              "      <td>[{'id': 53, 'name': 'Thriller'}, {'id': 12, 'name': 'Adventure'}]</td>\n",
              "      <td>279988</td>\n",
              "      <td>Extinction: Nature Has Evolved</td>\n",
              "      <td>2017.0</td>\n",
              "      <td>[{'cast_id': 3, 'character': 'Professor John Howson', 'credit_id': '53b...</td>\n",
              "      <td>[{'credit_id': '53b4a061c3a3685eb7000232', 'department': 'Directing', '...</td>\n",
              "    </tr>\n",
              "    <tr>\n",
              "      <th>6</th>\n",
              "      <td>[{'id': 18, 'name': 'Drama'}, {'id': 35, 'name': 'Comedy'}]</td>\n",
              "      <td>326241</td>\n",
              "      <td>For Here or to Go?</td>\n",
              "      <td>2017.0</td>\n",
              "      <td>[{'cast_id': 1, 'character': 'Vivek Pandit', 'credit_id': '58b338499251...</td>\n",
              "      <td>[{'credit_id': '54efa9bb9251417968006b3b', 'department': 'Directing', '...</td>\n",
              "    </tr>\n",
              "    <tr>\n",
              "      <th>7</th>\n",
              "      <td>[{'id': 28, 'name': 'Action'}, {'id': 14, 'name': 'Fantasy'}, {'id': 87...</td>\n",
              "      <td>354556</td>\n",
              "      <td>Guardians</td>\n",
              "      <td>2017.0</td>\n",
              "      <td>[{'cast_id': 2, 'character': 'Arseniy / Arsus', 'credit_id': '5707c4399...</td>\n",
              "      <td>[{'credit_id': '5707c405925141708d0000ef', 'department': 'Directing', '...</td>\n",
              "    </tr>\n",
              "    <tr>\n",
              "      <th>8</th>\n",
              "      <td>[{'id': 35, 'name': 'Comedy'}]</td>\n",
              "      <td>306943</td>\n",
              "      <td>The Outcasts</td>\n",
              "      <td>2017.0</td>\n",
              "      <td>[{'cast_id': 0, 'character': 'Jodi Watson', 'credit_id': '547b4244c3a36...</td>\n",
              "      <td>[{'credit_id': '5558894dc3a3687772008e31', 'department': 'Art', 'gender...</td>\n",
              "    </tr>\n",
              "    <tr>\n",
              "      <th>9</th>\n",
              "      <td>[{'id': 28, 'name': 'Action'}, {'id': 12, 'name': 'Adventure'}, {'id': ...</td>\n",
              "      <td>297762</td>\n",
              "      <td>Wonder Woman</td>\n",
              "      <td>2017.0</td>\n",
              "      <td>[{'cast_id': 0, 'character': 'Wonder Woman / Diana Prince', 'credit_id'...</td>\n",
              "      <td>[{'credit_id': '56a93fca9251417dcb001e9f', 'department': 'Writing', 'ge...</td>\n",
              "    </tr>\n",
              "    <tr>\n",
              "      <th>10</th>\n",
              "      <td>[{'id': 16, 'name': 'Animation'}, {'id': 12, 'name': 'Adventure'}, {'id...</td>\n",
              "      <td>252983</td>\n",
              "      <td>Sly Cooper</td>\n",
              "      <td>2017.0</td>\n",
              "      <td>[{'cast_id': 2, 'character': 'Murray (voice)', 'credit_id': '53f7f978c3...</td>\n",
              "      <td>[{'credit_id': '53f7f9b1c3a368735e000607', 'department': 'Directing', '...</td>\n",
              "    </tr>\n",
              "    <tr>\n",
              "      <th>11</th>\n",
              "      <td>[{'id': 18, 'name': 'Drama'}, {'id': 53, 'name': 'Thriller'}, {'id': 87...</td>\n",
              "      <td>339988</td>\n",
              "      <td>The Circle</td>\n",
              "      <td>2017.0</td>\n",
              "      <td>[{'cast_id': 14, 'character': 'Mae Holland', 'credit_id': '558ca9ad9251...</td>\n",
              "      <td>[{'credit_id': '55528cd792514114c8000722', 'department': 'Directing', '...</td>\n",
              "    </tr>\n",
              "    <tr>\n",
              "      <th>12</th>\n",
              "      <td>[{'id': 35, 'name': 'Comedy'}]</td>\n",
              "      <td>353616</td>\n",
              "      <td>Pitch Perfect 3</td>\n",
              "      <td>2017.0</td>\n",
              "      <td>[{'cast_id': 0, 'character': 'Beca Mitchell', 'credit_id': '55c63e50c3a...</td>\n",
              "      <td>[{'credit_id': '5847033992514166ba023648', 'department': 'Directing', '...</td>\n",
              "    </tr>\n",
              "  </tbody>\n",
              "</table>\n",
              "</div>"
            ],
            "text/plain": [
              "                                                                        genres  ...                                                                        crew\n",
              "0   [{'id': 12, 'name': 'Adventure'}, {'id': 28, 'name': 'Action'}, {'id': ...  ...  [{'credit_id': '52fe4c9cc3a36847f8236a65', 'department': 'Production', ...\n",
              "1   [{'id': 28, 'name': 'Action'}, {'id': 12, 'name': 'Adventure'}, {'id': ...  ...  [{'credit_id': '55ef66dbc3a3686f1700a52d', 'department': 'Production', ...\n",
              "2   [{'id': 28, 'name': 'Action'}, {'id': 12, 'name': 'Adventure'}, {'id': ...  ...  [{'credit_id': '56a93fa4c3a36872db001e7a', 'department': 'Writing', 'ge...\n",
              "3   [{'id': 28, 'name': 'Action'}, {'id': 12, 'name': 'Adventure'}, {'id': ...  ...  [{'credit_id': '59171547925141583c0315a6', 'department': 'Sound', 'gend...\n",
              "4   [{'id': 14, 'name': 'Fantasy'}, {'id': 28, 'name': 'Action'}, {'id': 12...  ...  [{'credit_id': '5431de49c3a36825d300007e', 'department': 'Directing', '...\n",
              "5            [{'id': 53, 'name': 'Thriller'}, {'id': 12, 'name': 'Adventure'}]  ...  [{'credit_id': '53b4a061c3a3685eb7000232', 'department': 'Directing', '...\n",
              "6                  [{'id': 18, 'name': 'Drama'}, {'id': 35, 'name': 'Comedy'}]  ...  [{'credit_id': '54efa9bb9251417968006b3b', 'department': 'Directing', '...\n",
              "7   [{'id': 28, 'name': 'Action'}, {'id': 14, 'name': 'Fantasy'}, {'id': 87...  ...  [{'credit_id': '5707c405925141708d0000ef', 'department': 'Directing', '...\n",
              "8                                               [{'id': 35, 'name': 'Comedy'}]  ...  [{'credit_id': '5558894dc3a3687772008e31', 'department': 'Art', 'gender...\n",
              "9   [{'id': 28, 'name': 'Action'}, {'id': 12, 'name': 'Adventure'}, {'id': ...  ...  [{'credit_id': '56a93fca9251417dcb001e9f', 'department': 'Writing', 'ge...\n",
              "10  [{'id': 16, 'name': 'Animation'}, {'id': 12, 'name': 'Adventure'}, {'id...  ...  [{'credit_id': '53f7f9b1c3a368735e000607', 'department': 'Directing', '...\n",
              "11  [{'id': 18, 'name': 'Drama'}, {'id': 53, 'name': 'Thriller'}, {'id': 87...  ...  [{'credit_id': '55528cd792514114c8000722', 'department': 'Directing', '...\n",
              "12                                              [{'id': 35, 'name': 'Comedy'}]  ...  [{'credit_id': '5847033992514166ba023648', 'department': 'Directing', '...\n",
              "\n",
              "[13 rows x 6 columns]"
            ]
          },
          "metadata": {},
          "execution_count": 34
        }
      ]
    },
    {
      "cell_type": "code",
      "metadata": {
        "id": "loOlDh0jg_PY"
      },
      "source": [
        "# evaluates an expression node or a string containing a Python literal or container display\n",
        "import ast\n",
        "data['genres'] = data['genres'].map(lambda x: ast.literal_eval(x))\n",
        "data['cast'] = data['cast'].map(lambda x: ast.literal_eval(x))\n",
        "data['crew'] = data['crew'].map(lambda x: ast.literal_eval(x))"
      ],
      "execution_count": 35,
      "outputs": []
    },
    {
      "cell_type": "code",
      "metadata": {
        "id": "ZXUG6VnFhB_z"
      },
      "source": [
        "def make_genresList(x):\n",
        "    gen = []\n",
        "    st = \" \"\n",
        "    for i in x:\n",
        "        if i.get('name') == 'Science Fiction':\n",
        "            scifi = 'Sci-Fi'\n",
        "            gen.append(scifi)\n",
        "        else:\n",
        "            gen.append(i.get('name'))\n",
        "    if gen == []:\n",
        "        return np.NaN\n",
        "    else:\n",
        "        return (st.join(gen))"
      ],
      "execution_count": 36,
      "outputs": []
    },
    {
      "cell_type": "code",
      "metadata": {
        "id": "EayWGOrmhFMC"
      },
      "source": [
        "data['genres_list'] = data['genres'].map(lambda x: make_genresList(x))"
      ],
      "execution_count": 37,
      "outputs": []
    },
    {
      "cell_type": "code",
      "metadata": {
        "colab": {
          "base_uri": "https://localhost:8080/"
        },
        "id": "hSUKq2VkhLPO",
        "outputId": "dfb5042b-dad4-44d5-e888-e2eec7a4230e"
      },
      "source": [
        "data['genres_list']"
      ],
      "execution_count": 38,
      "outputs": [
        {
          "output_type": "execute_result",
          "data": {
            "text/plain": [
              "0              Adventure Action Fantasy Comedy\n",
              "1              Action Adventure Fantasy Sci-Fi\n",
              "2              Action Adventure Fantasy Sci-Fi\n",
              "3               Action Adventure Comedy Sci-Fi\n",
              "4                     Fantasy Action Adventure\n",
              "5                           Thriller Adventure\n",
              "6                                 Drama Comedy\n",
              "7                        Action Fantasy Sci-Fi\n",
              "8                                       Comedy\n",
              "9                     Action Adventure Fantasy\n",
              "10    Animation Adventure Comedy Action Family\n",
              "11                       Drama Thriller Sci-Fi\n",
              "12                                      Comedy\n",
              "Name: genres_list, dtype: object"
            ]
          },
          "metadata": {},
          "execution_count": 38
        }
      ]
    },
    {
      "cell_type": "code",
      "metadata": {
        "id": "J0Y10WeIhN08"
      },
      "source": [
        "def get_actor1(x):\n",
        "    casts = []\n",
        "    for i in x:\n",
        "        casts.append(i.get('name'))\n",
        "    if casts == []:\n",
        "        return np.NaN\n",
        "    else:\n",
        "        return (casts[0])"
      ],
      "execution_count": 39,
      "outputs": []
    },
    {
      "cell_type": "code",
      "metadata": {
        "id": "ZB3e9xXHhQL_"
      },
      "source": [
        "data['actor_1_name'] = data['cast'].map(lambda x: get_actor1(x))"
      ],
      "execution_count": 40,
      "outputs": []
    },
    {
      "cell_type": "code",
      "metadata": {
        "id": "yicGE5fChU84"
      },
      "source": [
        "def get_actor2(x):\n",
        "    casts = []\n",
        "    for i in x:\n",
        "        casts.append(i.get('name'))\n",
        "    if casts == [] or len(casts)<=1:\n",
        "        return np.NaN\n",
        "    else:\n",
        "        return (casts[1])"
      ],
      "execution_count": 41,
      "outputs": []
    },
    {
      "cell_type": "code",
      "metadata": {
        "id": "NYc1H30vhYpQ"
      },
      "source": [
        "data['actor_2_name'] = data['cast'].map(lambda x: get_actor2(x))"
      ],
      "execution_count": 42,
      "outputs": []
    },
    {
      "cell_type": "code",
      "metadata": {
        "colab": {
          "base_uri": "https://localhost:8080/"
        },
        "id": "IuNSZvVghbE9",
        "outputId": "091e6b0a-53ca-4c9c-c9a9-7366d3629bfb"
      },
      "source": [
        "data['actor_2_name']"
      ],
      "execution_count": 43,
      "outputs": [
        {
          "output_type": "execute_result",
          "data": {
            "text/plain": [
              "0         Javier Bardem\n",
              "1          Henry Cavill\n",
              "2        Tom Hiddleston\n",
              "3           Zoe Saldana\n",
              "4          William Hurt\n",
              "5             Sarah Mac\n",
              "6       Melanie Chandra\n",
              "7       Sanzhar Madiyev\n",
              "8             Eden Sher\n",
              "9            Chris Pine\n",
              "10    Ian James Corlett\n",
              "11            Tom Hanks\n",
              "12         Rebel Wilson\n",
              "Name: actor_2_name, dtype: object"
            ]
          },
          "metadata": {},
          "execution_count": 43
        }
      ]
    },
    {
      "cell_type": "code",
      "metadata": {
        "id": "yQWpAj5OhekU"
      },
      "source": [
        "def get_actor3(x):\n",
        "    casts = []\n",
        "    for i in x:\n",
        "        casts.append(i.get('name'))\n",
        "    if casts == [] or len(casts)<=2:\n",
        "        return np.NaN\n",
        "    else:\n",
        "        return (casts[2])"
      ],
      "execution_count": 44,
      "outputs": []
    },
    {
      "cell_type": "code",
      "metadata": {
        "id": "tbudaH85hiWW"
      },
      "source": [
        "data['actor_3_name'] = data['cast'].map(lambda x: get_actor3(x))"
      ],
      "execution_count": 45,
      "outputs": []
    },
    {
      "cell_type": "code",
      "metadata": {
        "colab": {
          "base_uri": "https://localhost:8080/"
        },
        "id": "1ueEXZIuhkjE",
        "outputId": "cde9f7a7-7a98-46e1-d70e-7c373a9f85ce"
      },
      "source": [
        "data['actor_3_name']"
      ],
      "execution_count": 46,
      "outputs": [
        {
          "output_type": "execute_result",
          "data": {
            "text/plain": [
              "0       Geoffrey Rush\n",
              "1           Gal Gadot\n",
              "2      Cate Blanchett\n",
              "3       Dave Bautista\n",
              "4     Benjamin Walker\n",
              "5         Neil Newbon\n",
              "6          Omi Vaidya\n",
              "7     Sebastien Sisak\n",
              "8     Ashley Rickards\n",
              "9        Robin Wright\n",
              "10         Matt Olsen\n",
              "11        John Boyega\n",
              "12      Brittany Snow\n",
              "Name: actor_3_name, dtype: object"
            ]
          },
          "metadata": {},
          "execution_count": 46
        }
      ]
    },
    {
      "cell_type": "code",
      "metadata": {
        "id": "Pb9GHEhYhnKJ"
      },
      "source": [
        "def get_directors(x):\n",
        "    dt = []\n",
        "    st = \" \"\n",
        "    for i in x:\n",
        "        if i.get('job') == 'Director':\n",
        "            dt.append(i.get('name'))\n",
        "    if dt == []:\n",
        "        return np.NaN\n",
        "    else:\n",
        "        return (st.join(dt))"
      ],
      "execution_count": 47,
      "outputs": []
    },
    {
      "cell_type": "code",
      "metadata": {
        "id": "kJg8WIoDhqVA"
      },
      "source": [
        "data['director_name'] = data['crew'].map(lambda x: get_directors(x))"
      ],
      "execution_count": 48,
      "outputs": []
    },
    {
      "cell_type": "code",
      "metadata": {
        "colab": {
          "base_uri": "https://localhost:8080/"
        },
        "id": "Oz8ea8Ophsqk",
        "outputId": "83e5c8f6-1510-4cc3-b64a-13d512e57a77"
      },
      "source": [
        "data['director_name']"
      ],
      "execution_count": 49,
      "outputs": [
        {
          "output_type": "execute_result",
          "data": {
            "text/plain": [
              "0     Joachim Rønning Espen Sandberg\n",
              "1                        Zack Snyder\n",
              "2                      Taika Waititi\n",
              "3                         James Gunn\n",
              "4                      Sean McNamara\n",
              "5                        Adam Spinks\n",
              "6                  Rucha Humnabadkar\n",
              "7                   Sarik Andreasyan\n",
              "8                    Peter Hutchings\n",
              "9                      Patty Jenkins\n",
              "10                      Kevin Munroe\n",
              "11                    James Ponsoldt\n",
              "12                         Trish Sie\n",
              "Name: director_name, dtype: object"
            ]
          },
          "metadata": {},
          "execution_count": 49
        }
      ]
    },
    {
      "cell_type": "code",
      "metadata": {
        "id": "_QQUU9ichvtV"
      },
      "source": [
        "movie = data.loc[:,['director_name','actor_1_name','actor_2_name','actor_3_name','genres_list','title']]"
      ],
      "execution_count": 50,
      "outputs": []
    },
    {
      "cell_type": "code",
      "metadata": {
        "colab": {
          "base_uri": "https://localhost:8080/",
          "height": 452
        },
        "id": "GlKICp2qhyT5",
        "outputId": "7b983dd4-7990-4221-9499-9f0dabd06a1a"
      },
      "source": [
        "movie"
      ],
      "execution_count": 51,
      "outputs": [
        {
          "output_type": "execute_result",
          "data": {
            "text/html": [
              "<div>\n",
              "<style scoped>\n",
              "    .dataframe tbody tr th:only-of-type {\n",
              "        vertical-align: middle;\n",
              "    }\n",
              "\n",
              "    .dataframe tbody tr th {\n",
              "        vertical-align: top;\n",
              "    }\n",
              "\n",
              "    .dataframe thead th {\n",
              "        text-align: right;\n",
              "    }\n",
              "</style>\n",
              "<table border=\"1\" class=\"dataframe\">\n",
              "  <thead>\n",
              "    <tr style=\"text-align: right;\">\n",
              "      <th></th>\n",
              "      <th>director_name</th>\n",
              "      <th>actor_1_name</th>\n",
              "      <th>actor_2_name</th>\n",
              "      <th>actor_3_name</th>\n",
              "      <th>genres_list</th>\n",
              "      <th>title</th>\n",
              "    </tr>\n",
              "  </thead>\n",
              "  <tbody>\n",
              "    <tr>\n",
              "      <th>0</th>\n",
              "      <td>Joachim Rønning Espen Sandberg</td>\n",
              "      <td>Johnny Depp</td>\n",
              "      <td>Javier Bardem</td>\n",
              "      <td>Geoffrey Rush</td>\n",
              "      <td>Adventure Action Fantasy Comedy</td>\n",
              "      <td>Pirates of the Caribbean: Dead Men Tell No Tales</td>\n",
              "    </tr>\n",
              "    <tr>\n",
              "      <th>1</th>\n",
              "      <td>Zack Snyder</td>\n",
              "      <td>Ben Affleck</td>\n",
              "      <td>Henry Cavill</td>\n",
              "      <td>Gal Gadot</td>\n",
              "      <td>Action Adventure Fantasy Sci-Fi</td>\n",
              "      <td>Justice League</td>\n",
              "    </tr>\n",
              "    <tr>\n",
              "      <th>2</th>\n",
              "      <td>Taika Waititi</td>\n",
              "      <td>Chris Hemsworth</td>\n",
              "      <td>Tom Hiddleston</td>\n",
              "      <td>Cate Blanchett</td>\n",
              "      <td>Action Adventure Fantasy Sci-Fi</td>\n",
              "      <td>Thor: Ragnarok</td>\n",
              "    </tr>\n",
              "    <tr>\n",
              "      <th>3</th>\n",
              "      <td>James Gunn</td>\n",
              "      <td>Chris Pratt</td>\n",
              "      <td>Zoe Saldana</td>\n",
              "      <td>Dave Bautista</td>\n",
              "      <td>Action Adventure Comedy Sci-Fi</td>\n",
              "      <td>Guardians of the Galaxy Vol. 2</td>\n",
              "    </tr>\n",
              "    <tr>\n",
              "      <th>4</th>\n",
              "      <td>Sean McNamara</td>\n",
              "      <td>Pierce Brosnan</td>\n",
              "      <td>William Hurt</td>\n",
              "      <td>Benjamin Walker</td>\n",
              "      <td>Fantasy Action Adventure</td>\n",
              "      <td>The King's Daughter</td>\n",
              "    </tr>\n",
              "    <tr>\n",
              "      <th>5</th>\n",
              "      <td>Adam Spinks</td>\n",
              "      <td>Ben Loyd-Holmes</td>\n",
              "      <td>Sarah Mac</td>\n",
              "      <td>Neil Newbon</td>\n",
              "      <td>Thriller Adventure</td>\n",
              "      <td>Extinction: Nature Has Evolved</td>\n",
              "    </tr>\n",
              "    <tr>\n",
              "      <th>6</th>\n",
              "      <td>Rucha Humnabadkar</td>\n",
              "      <td>Ali Fazal</td>\n",
              "      <td>Melanie Chandra</td>\n",
              "      <td>Omi Vaidya</td>\n",
              "      <td>Drama Comedy</td>\n",
              "      <td>For Here or to Go?</td>\n",
              "    </tr>\n",
              "    <tr>\n",
              "      <th>7</th>\n",
              "      <td>Sarik Andreasyan</td>\n",
              "      <td>Anton Pampushnyy</td>\n",
              "      <td>Sanzhar Madiyev</td>\n",
              "      <td>Sebastien Sisak</td>\n",
              "      <td>Action Fantasy Sci-Fi</td>\n",
              "      <td>Guardians</td>\n",
              "    </tr>\n",
              "    <tr>\n",
              "      <th>8</th>\n",
              "      <td>Peter Hutchings</td>\n",
              "      <td>Victoria Justice</td>\n",
              "      <td>Eden Sher</td>\n",
              "      <td>Ashley Rickards</td>\n",
              "      <td>Comedy</td>\n",
              "      <td>The Outcasts</td>\n",
              "    </tr>\n",
              "    <tr>\n",
              "      <th>9</th>\n",
              "      <td>Patty Jenkins</td>\n",
              "      <td>Gal Gadot</td>\n",
              "      <td>Chris Pine</td>\n",
              "      <td>Robin Wright</td>\n",
              "      <td>Action Adventure Fantasy</td>\n",
              "      <td>Wonder Woman</td>\n",
              "    </tr>\n",
              "    <tr>\n",
              "      <th>10</th>\n",
              "      <td>Kevin Munroe</td>\n",
              "      <td>Chris Murphy</td>\n",
              "      <td>Ian James Corlett</td>\n",
              "      <td>Matt Olsen</td>\n",
              "      <td>Animation Adventure Comedy Action Family</td>\n",
              "      <td>Sly Cooper</td>\n",
              "    </tr>\n",
              "    <tr>\n",
              "      <th>11</th>\n",
              "      <td>James Ponsoldt</td>\n",
              "      <td>Emma Watson</td>\n",
              "      <td>Tom Hanks</td>\n",
              "      <td>John Boyega</td>\n",
              "      <td>Drama Thriller Sci-Fi</td>\n",
              "      <td>The Circle</td>\n",
              "    </tr>\n",
              "    <tr>\n",
              "      <th>12</th>\n",
              "      <td>Trish Sie</td>\n",
              "      <td>Anna Kendrick</td>\n",
              "      <td>Rebel Wilson</td>\n",
              "      <td>Brittany Snow</td>\n",
              "      <td>Comedy</td>\n",
              "      <td>Pitch Perfect 3</td>\n",
              "    </tr>\n",
              "  </tbody>\n",
              "</table>\n",
              "</div>"
            ],
            "text/plain": [
              "                     director_name  ...                                             title\n",
              "0   Joachim Rønning Espen Sandberg  ...  Pirates of the Caribbean: Dead Men Tell No Tales\n",
              "1                      Zack Snyder  ...                                    Justice League\n",
              "2                    Taika Waititi  ...                                    Thor: Ragnarok\n",
              "3                       James Gunn  ...                    Guardians of the Galaxy Vol. 2\n",
              "4                    Sean McNamara  ...                               The King's Daughter\n",
              "5                      Adam Spinks  ...                    Extinction: Nature Has Evolved\n",
              "6                Rucha Humnabadkar  ...                                For Here or to Go?\n",
              "7                 Sarik Andreasyan  ...                                         Guardians\n",
              "8                  Peter Hutchings  ...                                      The Outcasts\n",
              "9                    Patty Jenkins  ...                                      Wonder Woman\n",
              "10                    Kevin Munroe  ...                                        Sly Cooper\n",
              "11                  James Ponsoldt  ...                                        The Circle\n",
              "12                       Trish Sie  ...                                   Pitch Perfect 3\n",
              "\n",
              "[13 rows x 6 columns]"
            ]
          },
          "metadata": {},
          "execution_count": 51
        }
      ]
    },
    {
      "cell_type": "code",
      "metadata": {
        "colab": {
          "base_uri": "https://localhost:8080/"
        },
        "id": "-whhHVZth0QR",
        "outputId": "9134a445-f3f6-4cd8-faec-05fda400c2b5"
      },
      "source": [
        "movie.isna().sum()"
      ],
      "execution_count": 52,
      "outputs": [
        {
          "output_type": "execute_result",
          "data": {
            "text/plain": [
              "director_name    0\n",
              "actor_1_name     0\n",
              "actor_2_name     0\n",
              "actor_3_name     0\n",
              "genres_list      0\n",
              "title            0\n",
              "dtype: int64"
            ]
          },
          "metadata": {},
          "execution_count": 52
        }
      ]
    },
    {
      "cell_type": "code",
      "metadata": {
        "id": "-YDsz5LLh5gN"
      },
      "source": [
        "movie = movie.dropna(how='any')"
      ],
      "execution_count": 53,
      "outputs": []
    },
    {
      "cell_type": "code",
      "metadata": {
        "colab": {
          "base_uri": "https://localhost:8080/"
        },
        "id": "S3MZh8DEh-UU",
        "outputId": "08b8e0cf-44fd-4cfd-ac45-36ed63867a84"
      },
      "source": [
        "movie.isna().sum()"
      ],
      "execution_count": 54,
      "outputs": [
        {
          "output_type": "execute_result",
          "data": {
            "text/plain": [
              "director_name    0\n",
              "actor_1_name     0\n",
              "actor_2_name     0\n",
              "actor_3_name     0\n",
              "genres_list      0\n",
              "title            0\n",
              "dtype: int64"
            ]
          },
          "metadata": {},
          "execution_count": 54
        }
      ]
    },
    {
      "cell_type": "code",
      "metadata": {
        "id": "vZ84xVb0iBqw"
      },
      "source": [
        "movie = movie.rename(columns={'genres_list':'genres'})\n",
        "movie = movie.rename(columns={'title':'movie_title'})"
      ],
      "execution_count": 55,
      "outputs": []
    },
    {
      "cell_type": "code",
      "metadata": {
        "id": "5DSgWcJRiE4j"
      },
      "source": [
        "movie['movie_title'] = movie['movie_title'].str.lower()"
      ],
      "execution_count": 56,
      "outputs": []
    },
    {
      "cell_type": "code",
      "metadata": {
        "id": "8E-kHvh0iHRN"
      },
      "source": [
        "movie['comb'] = movie['actor_1_name'] + ' ' + movie['actor_2_name'] + ' '+ movie['actor_3_name'] + ' '+ movie['director_name'] +' ' + movie['genres']"
      ],
      "execution_count": 57,
      "outputs": []
    },
    {
      "cell_type": "code",
      "metadata": {
        "colab": {
          "base_uri": "https://localhost:8080/",
          "height": 656
        },
        "id": "Raue05h6iJ2z",
        "outputId": "8ebe5e21-a4e0-42bf-a7d6-8c16ad81160c"
      },
      "source": [
        "movie"
      ],
      "execution_count": 58,
      "outputs": [
        {
          "output_type": "execute_result",
          "data": {
            "text/html": [
              "<div>\n",
              "<style scoped>\n",
              "    .dataframe tbody tr th:only-of-type {\n",
              "        vertical-align: middle;\n",
              "    }\n",
              "\n",
              "    .dataframe tbody tr th {\n",
              "        vertical-align: top;\n",
              "    }\n",
              "\n",
              "    .dataframe thead th {\n",
              "        text-align: right;\n",
              "    }\n",
              "</style>\n",
              "<table border=\"1\" class=\"dataframe\">\n",
              "  <thead>\n",
              "    <tr style=\"text-align: right;\">\n",
              "      <th></th>\n",
              "      <th>director_name</th>\n",
              "      <th>actor_1_name</th>\n",
              "      <th>actor_2_name</th>\n",
              "      <th>actor_3_name</th>\n",
              "      <th>genres</th>\n",
              "      <th>movie_title</th>\n",
              "      <th>comb</th>\n",
              "    </tr>\n",
              "  </thead>\n",
              "  <tbody>\n",
              "    <tr>\n",
              "      <th>0</th>\n",
              "      <td>Joachim Rønning Espen Sandberg</td>\n",
              "      <td>Johnny Depp</td>\n",
              "      <td>Javier Bardem</td>\n",
              "      <td>Geoffrey Rush</td>\n",
              "      <td>Adventure Action Fantasy Comedy</td>\n",
              "      <td>pirates of the caribbean: dead men tell no tales</td>\n",
              "      <td>Johnny Depp Javier Bardem Geoffrey Rush Joachim Rønning Espen Sandberg ...</td>\n",
              "    </tr>\n",
              "    <tr>\n",
              "      <th>1</th>\n",
              "      <td>Zack Snyder</td>\n",
              "      <td>Ben Affleck</td>\n",
              "      <td>Henry Cavill</td>\n",
              "      <td>Gal Gadot</td>\n",
              "      <td>Action Adventure Fantasy Sci-Fi</td>\n",
              "      <td>justice league</td>\n",
              "      <td>Ben Affleck Henry Cavill Gal Gadot Zack Snyder Action Adventure Fantasy...</td>\n",
              "    </tr>\n",
              "    <tr>\n",
              "      <th>2</th>\n",
              "      <td>Taika Waititi</td>\n",
              "      <td>Chris Hemsworth</td>\n",
              "      <td>Tom Hiddleston</td>\n",
              "      <td>Cate Blanchett</td>\n",
              "      <td>Action Adventure Fantasy Sci-Fi</td>\n",
              "      <td>thor: ragnarok</td>\n",
              "      <td>Chris Hemsworth Tom Hiddleston Cate Blanchett Taika Waititi Action Adve...</td>\n",
              "    </tr>\n",
              "    <tr>\n",
              "      <th>3</th>\n",
              "      <td>James Gunn</td>\n",
              "      <td>Chris Pratt</td>\n",
              "      <td>Zoe Saldana</td>\n",
              "      <td>Dave Bautista</td>\n",
              "      <td>Action Adventure Comedy Sci-Fi</td>\n",
              "      <td>guardians of the galaxy vol. 2</td>\n",
              "      <td>Chris Pratt Zoe Saldana Dave Bautista James Gunn Action Adventure Comed...</td>\n",
              "    </tr>\n",
              "    <tr>\n",
              "      <th>4</th>\n",
              "      <td>Sean McNamara</td>\n",
              "      <td>Pierce Brosnan</td>\n",
              "      <td>William Hurt</td>\n",
              "      <td>Benjamin Walker</td>\n",
              "      <td>Fantasy Action Adventure</td>\n",
              "      <td>the king's daughter</td>\n",
              "      <td>Pierce Brosnan William Hurt Benjamin Walker Sean McNamara Fantasy Actio...</td>\n",
              "    </tr>\n",
              "    <tr>\n",
              "      <th>5</th>\n",
              "      <td>Adam Spinks</td>\n",
              "      <td>Ben Loyd-Holmes</td>\n",
              "      <td>Sarah Mac</td>\n",
              "      <td>Neil Newbon</td>\n",
              "      <td>Thriller Adventure</td>\n",
              "      <td>extinction: nature has evolved</td>\n",
              "      <td>Ben Loyd-Holmes Sarah Mac Neil Newbon Adam Spinks Thriller Adventure</td>\n",
              "    </tr>\n",
              "    <tr>\n",
              "      <th>6</th>\n",
              "      <td>Rucha Humnabadkar</td>\n",
              "      <td>Ali Fazal</td>\n",
              "      <td>Melanie Chandra</td>\n",
              "      <td>Omi Vaidya</td>\n",
              "      <td>Drama Comedy</td>\n",
              "      <td>for here or to go?</td>\n",
              "      <td>Ali Fazal Melanie Chandra Omi Vaidya Rucha Humnabadkar Drama Comedy</td>\n",
              "    </tr>\n",
              "    <tr>\n",
              "      <th>7</th>\n",
              "      <td>Sarik Andreasyan</td>\n",
              "      <td>Anton Pampushnyy</td>\n",
              "      <td>Sanzhar Madiyev</td>\n",
              "      <td>Sebastien Sisak</td>\n",
              "      <td>Action Fantasy Sci-Fi</td>\n",
              "      <td>guardians</td>\n",
              "      <td>Anton Pampushnyy Sanzhar Madiyev Sebastien Sisak Sarik Andreasyan Actio...</td>\n",
              "    </tr>\n",
              "    <tr>\n",
              "      <th>8</th>\n",
              "      <td>Peter Hutchings</td>\n",
              "      <td>Victoria Justice</td>\n",
              "      <td>Eden Sher</td>\n",
              "      <td>Ashley Rickards</td>\n",
              "      <td>Comedy</td>\n",
              "      <td>the outcasts</td>\n",
              "      <td>Victoria Justice Eden Sher Ashley Rickards Peter Hutchings Comedy</td>\n",
              "    </tr>\n",
              "    <tr>\n",
              "      <th>9</th>\n",
              "      <td>Patty Jenkins</td>\n",
              "      <td>Gal Gadot</td>\n",
              "      <td>Chris Pine</td>\n",
              "      <td>Robin Wright</td>\n",
              "      <td>Action Adventure Fantasy</td>\n",
              "      <td>wonder woman</td>\n",
              "      <td>Gal Gadot Chris Pine Robin Wright Patty Jenkins Action Adventure Fantasy</td>\n",
              "    </tr>\n",
              "    <tr>\n",
              "      <th>10</th>\n",
              "      <td>Kevin Munroe</td>\n",
              "      <td>Chris Murphy</td>\n",
              "      <td>Ian James Corlett</td>\n",
              "      <td>Matt Olsen</td>\n",
              "      <td>Animation Adventure Comedy Action Family</td>\n",
              "      <td>sly cooper</td>\n",
              "      <td>Chris Murphy Ian James Corlett Matt Olsen Kevin Munroe Animation Advent...</td>\n",
              "    </tr>\n",
              "    <tr>\n",
              "      <th>11</th>\n",
              "      <td>James Ponsoldt</td>\n",
              "      <td>Emma Watson</td>\n",
              "      <td>Tom Hanks</td>\n",
              "      <td>John Boyega</td>\n",
              "      <td>Drama Thriller Sci-Fi</td>\n",
              "      <td>the circle</td>\n",
              "      <td>Emma Watson Tom Hanks John Boyega James Ponsoldt Drama Thriller Sci-Fi</td>\n",
              "    </tr>\n",
              "    <tr>\n",
              "      <th>12</th>\n",
              "      <td>Trish Sie</td>\n",
              "      <td>Anna Kendrick</td>\n",
              "      <td>Rebel Wilson</td>\n",
              "      <td>Brittany Snow</td>\n",
              "      <td>Comedy</td>\n",
              "      <td>pitch perfect 3</td>\n",
              "      <td>Anna Kendrick Rebel Wilson Brittany Snow Trish Sie Comedy</td>\n",
              "    </tr>\n",
              "  </tbody>\n",
              "</table>\n",
              "</div>"
            ],
            "text/plain": [
              "                     director_name  ...                                                                        comb\n",
              "0   Joachim Rønning Espen Sandberg  ...  Johnny Depp Javier Bardem Geoffrey Rush Joachim Rønning Espen Sandberg ...\n",
              "1                      Zack Snyder  ...  Ben Affleck Henry Cavill Gal Gadot Zack Snyder Action Adventure Fantasy...\n",
              "2                    Taika Waititi  ...  Chris Hemsworth Tom Hiddleston Cate Blanchett Taika Waititi Action Adve...\n",
              "3                       James Gunn  ...  Chris Pratt Zoe Saldana Dave Bautista James Gunn Action Adventure Comed...\n",
              "4                    Sean McNamara  ...  Pierce Brosnan William Hurt Benjamin Walker Sean McNamara Fantasy Actio...\n",
              "5                      Adam Spinks  ...        Ben Loyd-Holmes Sarah Mac Neil Newbon Adam Spinks Thriller Adventure\n",
              "6                Rucha Humnabadkar  ...         Ali Fazal Melanie Chandra Omi Vaidya Rucha Humnabadkar Drama Comedy\n",
              "7                 Sarik Andreasyan  ...  Anton Pampushnyy Sanzhar Madiyev Sebastien Sisak Sarik Andreasyan Actio...\n",
              "8                  Peter Hutchings  ...           Victoria Justice Eden Sher Ashley Rickards Peter Hutchings Comedy\n",
              "9                    Patty Jenkins  ...    Gal Gadot Chris Pine Robin Wright Patty Jenkins Action Adventure Fantasy\n",
              "10                    Kevin Munroe  ...  Chris Murphy Ian James Corlett Matt Olsen Kevin Munroe Animation Advent...\n",
              "11                  James Ponsoldt  ...      Emma Watson Tom Hanks John Boyega James Ponsoldt Drama Thriller Sci-Fi\n",
              "12                       Trish Sie  ...                   Anna Kendrick Rebel Wilson Brittany Snow Trish Sie Comedy\n",
              "\n",
              "[13 rows x 7 columns]"
            ]
          },
          "metadata": {},
          "execution_count": 58
        }
      ]
    },
    {
      "cell_type": "code",
      "metadata": {
        "id": "obp_CD_BiPYS"
      },
      "source": [
        "old = pd.read_csv('/content/data.csv')"
      ],
      "execution_count": 59,
      "outputs": []
    },
    {
      "cell_type": "code",
      "metadata": {
        "id": "1FczC6eIiZUZ"
      },
      "source": [
        "old['comb'] = old['actor_1_name'] + ' ' + old['actor_2_name'] + ' '+ old['actor_3_name'] + ' '+ old['director_name'] +' ' + old['genres']"
      ],
      "execution_count": 60,
      "outputs": []
    },
    {
      "cell_type": "code",
      "metadata": {
        "colab": {
          "base_uri": "https://localhost:8080/",
          "height": 555
        },
        "id": "TYuAHJsniaeH",
        "outputId": "40d5dd70-c1e3-4093-95e7-2a7a9c644473"
      },
      "source": [
        "old"
      ],
      "execution_count": 61,
      "outputs": [
        {
          "output_type": "execute_result",
          "data": {
            "text/html": [
              "<div>\n",
              "<style scoped>\n",
              "    .dataframe tbody tr th:only-of-type {\n",
              "        vertical-align: middle;\n",
              "    }\n",
              "\n",
              "    .dataframe tbody tr th {\n",
              "        vertical-align: top;\n",
              "    }\n",
              "\n",
              "    .dataframe thead th {\n",
              "        text-align: right;\n",
              "    }\n",
              "</style>\n",
              "<table border=\"1\" class=\"dataframe\">\n",
              "  <thead>\n",
              "    <tr style=\"text-align: right;\">\n",
              "      <th></th>\n",
              "      <th>director_name</th>\n",
              "      <th>actor_1_name</th>\n",
              "      <th>actor_2_name</th>\n",
              "      <th>actor_3_name</th>\n",
              "      <th>genres</th>\n",
              "      <th>movie_title</th>\n",
              "      <th>comb</th>\n",
              "    </tr>\n",
              "  </thead>\n",
              "  <tbody>\n",
              "    <tr>\n",
              "      <th>0</th>\n",
              "      <td>James Cameron</td>\n",
              "      <td>CCH Pounder</td>\n",
              "      <td>Joel David Moore</td>\n",
              "      <td>Wes Studi</td>\n",
              "      <td>Action Adventure Fantasy Sci-Fi</td>\n",
              "      <td>avatar</td>\n",
              "      <td>CCH Pounder Joel David Moore Wes Studi James Cameron Action Adventure F...</td>\n",
              "    </tr>\n",
              "    <tr>\n",
              "      <th>1</th>\n",
              "      <td>Gore Verbinski</td>\n",
              "      <td>Johnny Depp</td>\n",
              "      <td>Orlando Bloom</td>\n",
              "      <td>Jack Davenport</td>\n",
              "      <td>Action Adventure Fantasy</td>\n",
              "      <td>pirates of the caribbean: at world's end</td>\n",
              "      <td>Johnny Depp Orlando Bloom Jack Davenport Gore Verbinski Action Adventur...</td>\n",
              "    </tr>\n",
              "    <tr>\n",
              "      <th>2</th>\n",
              "      <td>Sam Mendes</td>\n",
              "      <td>Christoph Waltz</td>\n",
              "      <td>Rory Kinnear</td>\n",
              "      <td>Stephanie Sigman</td>\n",
              "      <td>Action Adventure Thriller</td>\n",
              "      <td>spectre</td>\n",
              "      <td>Christoph Waltz Rory Kinnear Stephanie Sigman Sam Mendes Action Adventu...</td>\n",
              "    </tr>\n",
              "    <tr>\n",
              "      <th>3</th>\n",
              "      <td>Christopher Nolan</td>\n",
              "      <td>Tom Hardy</td>\n",
              "      <td>Christian Bale</td>\n",
              "      <td>Joseph Gordon-Levitt</td>\n",
              "      <td>Action Thriller</td>\n",
              "      <td>the dark knight rises</td>\n",
              "      <td>Tom Hardy Christian Bale Joseph Gordon-Levitt Christopher Nolan Action ...</td>\n",
              "    </tr>\n",
              "    <tr>\n",
              "      <th>4</th>\n",
              "      <td>Doug Walker</td>\n",
              "      <td>Doug Walker</td>\n",
              "      <td>Rob Walker</td>\n",
              "      <td>unknown</td>\n",
              "      <td>Documentary</td>\n",
              "      <td>star wars: episode vii - the force awakens</td>\n",
              "      <td>Doug Walker Rob Walker unknown Doug Walker Documentary</td>\n",
              "    </tr>\n",
              "    <tr>\n",
              "      <th>...</th>\n",
              "      <td>...</td>\n",
              "      <td>...</td>\n",
              "      <td>...</td>\n",
              "      <td>...</td>\n",
              "      <td>...</td>\n",
              "      <td>...</td>\n",
              "      <td>...</td>\n",
              "    </tr>\n",
              "    <tr>\n",
              "      <th>5038</th>\n",
              "      <td>Scott Smith</td>\n",
              "      <td>Eric Mabius</td>\n",
              "      <td>Daphne Zuniga</td>\n",
              "      <td>Crystal Lowe</td>\n",
              "      <td>Comedy Drama</td>\n",
              "      <td>signed sealed delivered</td>\n",
              "      <td>Eric Mabius Daphne Zuniga Crystal Lowe Scott Smith Comedy Drama</td>\n",
              "    </tr>\n",
              "    <tr>\n",
              "      <th>5039</th>\n",
              "      <td>unknown</td>\n",
              "      <td>Natalie Zea</td>\n",
              "      <td>Valorie Curry</td>\n",
              "      <td>Sam Underwood</td>\n",
              "      <td>Crime Drama Mystery Thriller</td>\n",
              "      <td>the following</td>\n",
              "      <td>Natalie Zea Valorie Curry Sam Underwood unknown Crime Drama Mystery Thr...</td>\n",
              "    </tr>\n",
              "    <tr>\n",
              "      <th>5040</th>\n",
              "      <td>Benjamin Roberds</td>\n",
              "      <td>Eva Boehnke</td>\n",
              "      <td>Maxwell Moody</td>\n",
              "      <td>David Chandler</td>\n",
              "      <td>Drama Horror Thriller</td>\n",
              "      <td>a plague so pleasant</td>\n",
              "      <td>Eva Boehnke Maxwell Moody David Chandler Benjamin Roberds Drama Horror ...</td>\n",
              "    </tr>\n",
              "    <tr>\n",
              "      <th>5041</th>\n",
              "      <td>Daniel Hsia</td>\n",
              "      <td>Alan Ruck</td>\n",
              "      <td>Daniel Henney</td>\n",
              "      <td>Eliza Coupe</td>\n",
              "      <td>Comedy Drama Romance</td>\n",
              "      <td>shanghai calling</td>\n",
              "      <td>Alan Ruck Daniel Henney Eliza Coupe Daniel Hsia Comedy Drama Romance</td>\n",
              "    </tr>\n",
              "    <tr>\n",
              "      <th>5042</th>\n",
              "      <td>Jon Gunn</td>\n",
              "      <td>John August</td>\n",
              "      <td>Brian Herzlinger</td>\n",
              "      <td>Jon Gunn</td>\n",
              "      <td>Documentary</td>\n",
              "      <td>my date with drew</td>\n",
              "      <td>John August Brian Herzlinger Jon Gunn Jon Gunn Documentary</td>\n",
              "    </tr>\n",
              "  </tbody>\n",
              "</table>\n",
              "<p>5043 rows × 7 columns</p>\n",
              "</div>"
            ],
            "text/plain": [
              "          director_name  ...                                                                        comb\n",
              "0         James Cameron  ...  CCH Pounder Joel David Moore Wes Studi James Cameron Action Adventure F...\n",
              "1        Gore Verbinski  ...  Johnny Depp Orlando Bloom Jack Davenport Gore Verbinski Action Adventur...\n",
              "2            Sam Mendes  ...  Christoph Waltz Rory Kinnear Stephanie Sigman Sam Mendes Action Adventu...\n",
              "3     Christopher Nolan  ...  Tom Hardy Christian Bale Joseph Gordon-Levitt Christopher Nolan Action ...\n",
              "4           Doug Walker  ...                      Doug Walker Rob Walker unknown Doug Walker Documentary\n",
              "...                 ...  ...                                                                         ...\n",
              "5038        Scott Smith  ...             Eric Mabius Daphne Zuniga Crystal Lowe Scott Smith Comedy Drama\n",
              "5039            unknown  ...  Natalie Zea Valorie Curry Sam Underwood unknown Crime Drama Mystery Thr...\n",
              "5040   Benjamin Roberds  ...  Eva Boehnke Maxwell Moody David Chandler Benjamin Roberds Drama Horror ...\n",
              "5041        Daniel Hsia  ...        Alan Ruck Daniel Henney Eliza Coupe Daniel Hsia Comedy Drama Romance\n",
              "5042           Jon Gunn  ...                  John August Brian Herzlinger Jon Gunn Jon Gunn Documentary\n",
              "\n",
              "[5043 rows x 7 columns]"
            ]
          },
          "metadata": {},
          "execution_count": 61
        }
      ]
    },
    {
      "cell_type": "code",
      "metadata": {
        "id": "fD2afuXHifbd"
      },
      "source": [
        "new = old.append(movie)"
      ],
      "execution_count": 62,
      "outputs": []
    },
    {
      "cell_type": "code",
      "metadata": {
        "colab": {
          "base_uri": "https://localhost:8080/",
          "height": 555
        },
        "id": "PhgcRmrqikK8",
        "outputId": "b26e1718-d39c-48f5-96eb-bb823315a427"
      },
      "source": [
        "new"
      ],
      "execution_count": 63,
      "outputs": [
        {
          "output_type": "execute_result",
          "data": {
            "text/html": [
              "<div>\n",
              "<style scoped>\n",
              "    .dataframe tbody tr th:only-of-type {\n",
              "        vertical-align: middle;\n",
              "    }\n",
              "\n",
              "    .dataframe tbody tr th {\n",
              "        vertical-align: top;\n",
              "    }\n",
              "\n",
              "    .dataframe thead th {\n",
              "        text-align: right;\n",
              "    }\n",
              "</style>\n",
              "<table border=\"1\" class=\"dataframe\">\n",
              "  <thead>\n",
              "    <tr style=\"text-align: right;\">\n",
              "      <th></th>\n",
              "      <th>director_name</th>\n",
              "      <th>actor_1_name</th>\n",
              "      <th>actor_2_name</th>\n",
              "      <th>actor_3_name</th>\n",
              "      <th>genres</th>\n",
              "      <th>movie_title</th>\n",
              "      <th>comb</th>\n",
              "    </tr>\n",
              "  </thead>\n",
              "  <tbody>\n",
              "    <tr>\n",
              "      <th>0</th>\n",
              "      <td>James Cameron</td>\n",
              "      <td>CCH Pounder</td>\n",
              "      <td>Joel David Moore</td>\n",
              "      <td>Wes Studi</td>\n",
              "      <td>Action Adventure Fantasy Sci-Fi</td>\n",
              "      <td>avatar</td>\n",
              "      <td>CCH Pounder Joel David Moore Wes Studi James Cameron Action Adventure F...</td>\n",
              "    </tr>\n",
              "    <tr>\n",
              "      <th>1</th>\n",
              "      <td>Gore Verbinski</td>\n",
              "      <td>Johnny Depp</td>\n",
              "      <td>Orlando Bloom</td>\n",
              "      <td>Jack Davenport</td>\n",
              "      <td>Action Adventure Fantasy</td>\n",
              "      <td>pirates of the caribbean: at world's end</td>\n",
              "      <td>Johnny Depp Orlando Bloom Jack Davenport Gore Verbinski Action Adventur...</td>\n",
              "    </tr>\n",
              "    <tr>\n",
              "      <th>2</th>\n",
              "      <td>Sam Mendes</td>\n",
              "      <td>Christoph Waltz</td>\n",
              "      <td>Rory Kinnear</td>\n",
              "      <td>Stephanie Sigman</td>\n",
              "      <td>Action Adventure Thriller</td>\n",
              "      <td>spectre</td>\n",
              "      <td>Christoph Waltz Rory Kinnear Stephanie Sigman Sam Mendes Action Adventu...</td>\n",
              "    </tr>\n",
              "    <tr>\n",
              "      <th>3</th>\n",
              "      <td>Christopher Nolan</td>\n",
              "      <td>Tom Hardy</td>\n",
              "      <td>Christian Bale</td>\n",
              "      <td>Joseph Gordon-Levitt</td>\n",
              "      <td>Action Thriller</td>\n",
              "      <td>the dark knight rises</td>\n",
              "      <td>Tom Hardy Christian Bale Joseph Gordon-Levitt Christopher Nolan Action ...</td>\n",
              "    </tr>\n",
              "    <tr>\n",
              "      <th>4</th>\n",
              "      <td>Doug Walker</td>\n",
              "      <td>Doug Walker</td>\n",
              "      <td>Rob Walker</td>\n",
              "      <td>unknown</td>\n",
              "      <td>Documentary</td>\n",
              "      <td>star wars: episode vii - the force awakens</td>\n",
              "      <td>Doug Walker Rob Walker unknown Doug Walker Documentary</td>\n",
              "    </tr>\n",
              "    <tr>\n",
              "      <th>...</th>\n",
              "      <td>...</td>\n",
              "      <td>...</td>\n",
              "      <td>...</td>\n",
              "      <td>...</td>\n",
              "      <td>...</td>\n",
              "      <td>...</td>\n",
              "      <td>...</td>\n",
              "    </tr>\n",
              "    <tr>\n",
              "      <th>8</th>\n",
              "      <td>Peter Hutchings</td>\n",
              "      <td>Victoria Justice</td>\n",
              "      <td>Eden Sher</td>\n",
              "      <td>Ashley Rickards</td>\n",
              "      <td>Comedy</td>\n",
              "      <td>the outcasts</td>\n",
              "      <td>Victoria Justice Eden Sher Ashley Rickards Peter Hutchings Comedy</td>\n",
              "    </tr>\n",
              "    <tr>\n",
              "      <th>9</th>\n",
              "      <td>Patty Jenkins</td>\n",
              "      <td>Gal Gadot</td>\n",
              "      <td>Chris Pine</td>\n",
              "      <td>Robin Wright</td>\n",
              "      <td>Action Adventure Fantasy</td>\n",
              "      <td>wonder woman</td>\n",
              "      <td>Gal Gadot Chris Pine Robin Wright Patty Jenkins Action Adventure Fantasy</td>\n",
              "    </tr>\n",
              "    <tr>\n",
              "      <th>10</th>\n",
              "      <td>Kevin Munroe</td>\n",
              "      <td>Chris Murphy</td>\n",
              "      <td>Ian James Corlett</td>\n",
              "      <td>Matt Olsen</td>\n",
              "      <td>Animation Adventure Comedy Action Family</td>\n",
              "      <td>sly cooper</td>\n",
              "      <td>Chris Murphy Ian James Corlett Matt Olsen Kevin Munroe Animation Advent...</td>\n",
              "    </tr>\n",
              "    <tr>\n",
              "      <th>11</th>\n",
              "      <td>James Ponsoldt</td>\n",
              "      <td>Emma Watson</td>\n",
              "      <td>Tom Hanks</td>\n",
              "      <td>John Boyega</td>\n",
              "      <td>Drama Thriller Sci-Fi</td>\n",
              "      <td>the circle</td>\n",
              "      <td>Emma Watson Tom Hanks John Boyega James Ponsoldt Drama Thriller Sci-Fi</td>\n",
              "    </tr>\n",
              "    <tr>\n",
              "      <th>12</th>\n",
              "      <td>Trish Sie</td>\n",
              "      <td>Anna Kendrick</td>\n",
              "      <td>Rebel Wilson</td>\n",
              "      <td>Brittany Snow</td>\n",
              "      <td>Comedy</td>\n",
              "      <td>pitch perfect 3</td>\n",
              "      <td>Anna Kendrick Rebel Wilson Brittany Snow Trish Sie Comedy</td>\n",
              "    </tr>\n",
              "  </tbody>\n",
              "</table>\n",
              "<p>5056 rows × 7 columns</p>\n",
              "</div>"
            ],
            "text/plain": [
              "        director_name  ...                                                                        comb\n",
              "0       James Cameron  ...  CCH Pounder Joel David Moore Wes Studi James Cameron Action Adventure F...\n",
              "1      Gore Verbinski  ...  Johnny Depp Orlando Bloom Jack Davenport Gore Verbinski Action Adventur...\n",
              "2          Sam Mendes  ...  Christoph Waltz Rory Kinnear Stephanie Sigman Sam Mendes Action Adventu...\n",
              "3   Christopher Nolan  ...  Tom Hardy Christian Bale Joseph Gordon-Levitt Christopher Nolan Action ...\n",
              "4         Doug Walker  ...                      Doug Walker Rob Walker unknown Doug Walker Documentary\n",
              "..                ...  ...                                                                         ...\n",
              "8     Peter Hutchings  ...           Victoria Justice Eden Sher Ashley Rickards Peter Hutchings Comedy\n",
              "9       Patty Jenkins  ...    Gal Gadot Chris Pine Robin Wright Patty Jenkins Action Adventure Fantasy\n",
              "10       Kevin Munroe  ...  Chris Murphy Ian James Corlett Matt Olsen Kevin Munroe Animation Advent...\n",
              "11     James Ponsoldt  ...      Emma Watson Tom Hanks John Boyega James Ponsoldt Drama Thriller Sci-Fi\n",
              "12          Trish Sie  ...                   Anna Kendrick Rebel Wilson Brittany Snow Trish Sie Comedy\n",
              "\n",
              "[5056 rows x 7 columns]"
            ]
          },
          "metadata": {},
          "execution_count": 63
        }
      ]
    },
    {
      "cell_type": "code",
      "metadata": {
        "id": "0IlUbGxZinxw"
      },
      "source": [
        "new.drop_duplicates(subset =\"movie_title\", keep = 'last', inplace = True)"
      ],
      "execution_count": 64,
      "outputs": []
    },
    {
      "cell_type": "code",
      "metadata": {
        "colab": {
          "base_uri": "https://localhost:8080/",
          "height": 555
        },
        "id": "5pu00TxOip65",
        "outputId": "3fad1f27-6b8e-4ca0-f466-baafc989b0f9"
      },
      "source": [
        "new"
      ],
      "execution_count": 65,
      "outputs": [
        {
          "output_type": "execute_result",
          "data": {
            "text/html": [
              "<div>\n",
              "<style scoped>\n",
              "    .dataframe tbody tr th:only-of-type {\n",
              "        vertical-align: middle;\n",
              "    }\n",
              "\n",
              "    .dataframe tbody tr th {\n",
              "        vertical-align: top;\n",
              "    }\n",
              "\n",
              "    .dataframe thead th {\n",
              "        text-align: right;\n",
              "    }\n",
              "</style>\n",
              "<table border=\"1\" class=\"dataframe\">\n",
              "  <thead>\n",
              "    <tr style=\"text-align: right;\">\n",
              "      <th></th>\n",
              "      <th>director_name</th>\n",
              "      <th>actor_1_name</th>\n",
              "      <th>actor_2_name</th>\n",
              "      <th>actor_3_name</th>\n",
              "      <th>genres</th>\n",
              "      <th>movie_title</th>\n",
              "      <th>comb</th>\n",
              "    </tr>\n",
              "  </thead>\n",
              "  <tbody>\n",
              "    <tr>\n",
              "      <th>0</th>\n",
              "      <td>James Cameron</td>\n",
              "      <td>CCH Pounder</td>\n",
              "      <td>Joel David Moore</td>\n",
              "      <td>Wes Studi</td>\n",
              "      <td>Action Adventure Fantasy Sci-Fi</td>\n",
              "      <td>avatar</td>\n",
              "      <td>CCH Pounder Joel David Moore Wes Studi James Cameron Action Adventure F...</td>\n",
              "    </tr>\n",
              "    <tr>\n",
              "      <th>1</th>\n",
              "      <td>Gore Verbinski</td>\n",
              "      <td>Johnny Depp</td>\n",
              "      <td>Orlando Bloom</td>\n",
              "      <td>Jack Davenport</td>\n",
              "      <td>Action Adventure Fantasy</td>\n",
              "      <td>pirates of the caribbean: at world's end</td>\n",
              "      <td>Johnny Depp Orlando Bloom Jack Davenport Gore Verbinski Action Adventur...</td>\n",
              "    </tr>\n",
              "    <tr>\n",
              "      <th>2</th>\n",
              "      <td>Sam Mendes</td>\n",
              "      <td>Christoph Waltz</td>\n",
              "      <td>Rory Kinnear</td>\n",
              "      <td>Stephanie Sigman</td>\n",
              "      <td>Action Adventure Thriller</td>\n",
              "      <td>spectre</td>\n",
              "      <td>Christoph Waltz Rory Kinnear Stephanie Sigman Sam Mendes Action Adventu...</td>\n",
              "    </tr>\n",
              "    <tr>\n",
              "      <th>3</th>\n",
              "      <td>Christopher Nolan</td>\n",
              "      <td>Tom Hardy</td>\n",
              "      <td>Christian Bale</td>\n",
              "      <td>Joseph Gordon-Levitt</td>\n",
              "      <td>Action Thriller</td>\n",
              "      <td>the dark knight rises</td>\n",
              "      <td>Tom Hardy Christian Bale Joseph Gordon-Levitt Christopher Nolan Action ...</td>\n",
              "    </tr>\n",
              "    <tr>\n",
              "      <th>4</th>\n",
              "      <td>Doug Walker</td>\n",
              "      <td>Doug Walker</td>\n",
              "      <td>Rob Walker</td>\n",
              "      <td>unknown</td>\n",
              "      <td>Documentary</td>\n",
              "      <td>star wars: episode vii - the force awakens</td>\n",
              "      <td>Doug Walker Rob Walker unknown Doug Walker Documentary</td>\n",
              "    </tr>\n",
              "    <tr>\n",
              "      <th>...</th>\n",
              "      <td>...</td>\n",
              "      <td>...</td>\n",
              "      <td>...</td>\n",
              "      <td>...</td>\n",
              "      <td>...</td>\n",
              "      <td>...</td>\n",
              "      <td>...</td>\n",
              "    </tr>\n",
              "    <tr>\n",
              "      <th>8</th>\n",
              "      <td>Peter Hutchings</td>\n",
              "      <td>Victoria Justice</td>\n",
              "      <td>Eden Sher</td>\n",
              "      <td>Ashley Rickards</td>\n",
              "      <td>Comedy</td>\n",
              "      <td>the outcasts</td>\n",
              "      <td>Victoria Justice Eden Sher Ashley Rickards Peter Hutchings Comedy</td>\n",
              "    </tr>\n",
              "    <tr>\n",
              "      <th>9</th>\n",
              "      <td>Patty Jenkins</td>\n",
              "      <td>Gal Gadot</td>\n",
              "      <td>Chris Pine</td>\n",
              "      <td>Robin Wright</td>\n",
              "      <td>Action Adventure Fantasy</td>\n",
              "      <td>wonder woman</td>\n",
              "      <td>Gal Gadot Chris Pine Robin Wright Patty Jenkins Action Adventure Fantasy</td>\n",
              "    </tr>\n",
              "    <tr>\n",
              "      <th>10</th>\n",
              "      <td>Kevin Munroe</td>\n",
              "      <td>Chris Murphy</td>\n",
              "      <td>Ian James Corlett</td>\n",
              "      <td>Matt Olsen</td>\n",
              "      <td>Animation Adventure Comedy Action Family</td>\n",
              "      <td>sly cooper</td>\n",
              "      <td>Chris Murphy Ian James Corlett Matt Olsen Kevin Munroe Animation Advent...</td>\n",
              "    </tr>\n",
              "    <tr>\n",
              "      <th>11</th>\n",
              "      <td>James Ponsoldt</td>\n",
              "      <td>Emma Watson</td>\n",
              "      <td>Tom Hanks</td>\n",
              "      <td>John Boyega</td>\n",
              "      <td>Drama Thriller Sci-Fi</td>\n",
              "      <td>the circle</td>\n",
              "      <td>Emma Watson Tom Hanks John Boyega James Ponsoldt Drama Thriller Sci-Fi</td>\n",
              "    </tr>\n",
              "    <tr>\n",
              "      <th>12</th>\n",
              "      <td>Trish Sie</td>\n",
              "      <td>Anna Kendrick</td>\n",
              "      <td>Rebel Wilson</td>\n",
              "      <td>Brittany Snow</td>\n",
              "      <td>Comedy</td>\n",
              "      <td>pitch perfect 3</td>\n",
              "      <td>Anna Kendrick Rebel Wilson Brittany Snow Trish Sie Comedy</td>\n",
              "    </tr>\n",
              "  </tbody>\n",
              "</table>\n",
              "<p>4929 rows × 7 columns</p>\n",
              "</div>"
            ],
            "text/plain": [
              "        director_name  ...                                                                        comb\n",
              "0       James Cameron  ...  CCH Pounder Joel David Moore Wes Studi James Cameron Action Adventure F...\n",
              "1      Gore Verbinski  ...  Johnny Depp Orlando Bloom Jack Davenport Gore Verbinski Action Adventur...\n",
              "2          Sam Mendes  ...  Christoph Waltz Rory Kinnear Stephanie Sigman Sam Mendes Action Adventu...\n",
              "3   Christopher Nolan  ...  Tom Hardy Christian Bale Joseph Gordon-Levitt Christopher Nolan Action ...\n",
              "4         Doug Walker  ...                      Doug Walker Rob Walker unknown Doug Walker Documentary\n",
              "..                ...  ...                                                                         ...\n",
              "8     Peter Hutchings  ...           Victoria Justice Eden Sher Ashley Rickards Peter Hutchings Comedy\n",
              "9       Patty Jenkins  ...    Gal Gadot Chris Pine Robin Wright Patty Jenkins Action Adventure Fantasy\n",
              "10       Kevin Munroe  ...  Chris Murphy Ian James Corlett Matt Olsen Kevin Munroe Animation Advent...\n",
              "11     James Ponsoldt  ...      Emma Watson Tom Hanks John Boyega James Ponsoldt Drama Thriller Sci-Fi\n",
              "12          Trish Sie  ...                   Anna Kendrick Rebel Wilson Brittany Snow Trish Sie Comedy\n",
              "\n",
              "[4929 rows x 7 columns]"
            ]
          },
          "metadata": {},
          "execution_count": 65
        }
      ]
    },
    {
      "cell_type": "code",
      "metadata": {
        "id": "33lxqy8iiuWa"
      },
      "source": [
        "new.to_csv('new_data.csv',index=False)"
      ],
      "execution_count": 66,
      "outputs": []
    }
  ]
}
