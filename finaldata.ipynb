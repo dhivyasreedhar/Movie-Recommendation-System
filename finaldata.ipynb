{
  "nbformat": 4,
  "nbformat_minor": 0,
  "metadata": {
    "colab": {
      "name": "finaldata.ipynb",
      "provenance": [],
      "authorship_tag": "ABX9TyMa2sRC1jx5dFd9ekeEKH4U",
      "include_colab_link": true
    },
    "kernelspec": {
      "name": "python3",
      "display_name": "Python 3"
    },
    "language_info": {
      "name": "python"
    }
  },
  "cells": [
    {
      "cell_type": "markdown",
      "metadata": {
        "id": "view-in-github",
        "colab_type": "text"
      },
      "source": [
        "<a href=\"https://colab.research.google.com/github/dhivyasreedhar/Movie-Recommendation-System/blob/main/finaldata.ipynb\" target=\"_parent\"><img src=\"https://colab.research.google.com/assets/colab-badge.svg\" alt=\"Open In Colab\"/></a>"
      ]
    },
    {
      "cell_type": "code",
      "metadata": {
        "id": "DUYi6NRAi5Bf"
      },
      "source": [
        "import pandas as pd\n",
        "import numpy as np"
      ],
      "execution_count": 1,
      "outputs": []
    },
    {
      "cell_type": "markdown",
      "metadata": {
        "id": "iEiicufDjMys"
      },
      "source": [
        "Extracting features of 2018 movies from wikipedia"
      ]
    },
    {
      "cell_type": "code",
      "metadata": {
        "id": "RMzBdaQxjGb2"
      },
      "source": [
        "link = \"https://en.wikipedia.org/wiki/List_of_American_films_of_2018\"\n",
        "df1 = pd.read_html(link, header=0)[2]\n",
        "df2 = pd.read_html(link, header=0)[3]\n",
        "df3 = pd.read_html(link, header=0)[4]\n",
        "df4 = pd.read_html(link, header=0)[5]"
      ],
      "execution_count": 2,
      "outputs": []
    },
    {
      "cell_type": "code",
      "metadata": {
        "id": "tyb8NEZojGUN"
      },
      "source": [
        "df = df1.append(df2.append(df3.append(df4,ignore_index=True),ignore_index=True),ignore_index=True)"
      ],
      "execution_count": 3,
      "outputs": []
    },
    {
      "cell_type": "code",
      "metadata": {
        "colab": {
          "base_uri": "https://localhost:8080/",
          "height": 419
        },
        "id": "C0CryNfUjYVH",
        "outputId": "be12befc-5657-4137-c779-c97d8abc1a4f"
      },
      "source": [
        "df"
      ],
      "execution_count": 4,
      "outputs": [
        {
          "output_type": "execute_result",
          "data": {
            "text/html": [
              "<div>\n",
              "<style scoped>\n",
              "    .dataframe tbody tr th:only-of-type {\n",
              "        vertical-align: middle;\n",
              "    }\n",
              "\n",
              "    .dataframe tbody tr th {\n",
              "        vertical-align: top;\n",
              "    }\n",
              "\n",
              "    .dataframe thead th {\n",
              "        text-align: right;\n",
              "    }\n",
              "</style>\n",
              "<table border=\"1\" class=\"dataframe\">\n",
              "  <thead>\n",
              "    <tr style=\"text-align: right;\">\n",
              "      <th></th>\n",
              "      <th>Opening</th>\n",
              "      <th>Opening.1</th>\n",
              "      <th>Title</th>\n",
              "      <th>Production company</th>\n",
              "      <th>Cast and crew</th>\n",
              "      <th>.mw-parser-output .tooltip-dotted{border-bottom:1px dotted;cursor:help}Ref.</th>\n",
              "      <th>Ref.</th>\n",
              "    </tr>\n",
              "  </thead>\n",
              "  <tbody>\n",
              "    <tr>\n",
              "      <th>0</th>\n",
              "      <td>JANUARY</td>\n",
              "      <td>5</td>\n",
              "      <td>Insidious: The Last Key</td>\n",
              "      <td>Universal Pictures / Blumhouse Productions / S...</td>\n",
              "      <td>Adam Robitel (director); Leigh Whannell (scree...</td>\n",
              "      <td>[2]</td>\n",
              "      <td>NaN</td>\n",
              "    </tr>\n",
              "    <tr>\n",
              "      <th>1</th>\n",
              "      <td>JANUARY</td>\n",
              "      <td>5</td>\n",
              "      <td>The Strange Ones</td>\n",
              "      <td>Vertical Entertainment</td>\n",
              "      <td>Lauren Wolkstein (director); Christopher Radcl...</td>\n",
              "      <td>[3]</td>\n",
              "      <td>NaN</td>\n",
              "    </tr>\n",
              "    <tr>\n",
              "      <th>2</th>\n",
              "      <td>JANUARY</td>\n",
              "      <td>5</td>\n",
              "      <td>Stratton</td>\n",
              "      <td>Momentum Pictures</td>\n",
              "      <td>Simon West (director); Duncan Falconer, Warren...</td>\n",
              "      <td>[4]</td>\n",
              "      <td>NaN</td>\n",
              "    </tr>\n",
              "    <tr>\n",
              "      <th>3</th>\n",
              "      <td>JANUARY</td>\n",
              "      <td>10</td>\n",
              "      <td>Sweet Country</td>\n",
              "      <td>Samuel Goldwyn Films</td>\n",
              "      <td>Warwick Thornton (director); David Tranter, St...</td>\n",
              "      <td>[5]</td>\n",
              "      <td>NaN</td>\n",
              "    </tr>\n",
              "    <tr>\n",
              "      <th>4</th>\n",
              "      <td>JANUARY</td>\n",
              "      <td>12</td>\n",
              "      <td>The Commuter</td>\n",
              "      <td>Lionsgate / StudioCanal / The Picture Company</td>\n",
              "      <td>Jaume Collet-Serra (director); Byron Willinger...</td>\n",
              "      <td>[6]</td>\n",
              "      <td>NaN</td>\n",
              "    </tr>\n",
              "    <tr>\n",
              "      <th>...</th>\n",
              "      <td>...</td>\n",
              "      <td>...</td>\n",
              "      <td>...</td>\n",
              "      <td>...</td>\n",
              "      <td>...</td>\n",
              "      <td>...</td>\n",
              "      <td>...</td>\n",
              "    </tr>\n",
              "    <tr>\n",
              "      <th>265</th>\n",
              "      <td>DECEMBER</td>\n",
              "      <td>25</td>\n",
              "      <td>Holmes &amp; Watson</td>\n",
              "      <td>Columbia Pictures / Gary Sanchez Productions</td>\n",
              "      <td>Etan Cohen (director/screenplay); Will Ferrell...</td>\n",
              "      <td>NaN</td>\n",
              "      <td>[163]</td>\n",
              "    </tr>\n",
              "    <tr>\n",
              "      <th>266</th>\n",
              "      <td>DECEMBER</td>\n",
              "      <td>25</td>\n",
              "      <td>Vice</td>\n",
              "      <td>Annapurna Pictures / Plan B Entertainment</td>\n",
              "      <td>Adam McKay (director/screenplay); Christian Ba...</td>\n",
              "      <td>NaN</td>\n",
              "      <td>[137]</td>\n",
              "    </tr>\n",
              "    <tr>\n",
              "      <th>267</th>\n",
              "      <td>DECEMBER</td>\n",
              "      <td>25</td>\n",
              "      <td>On the Basis of Sex</td>\n",
              "      <td>Focus Features</td>\n",
              "      <td>Mimi Leder (director); Daniel Stiepleman (scre...</td>\n",
              "      <td>NaN</td>\n",
              "      <td>[226]</td>\n",
              "    </tr>\n",
              "    <tr>\n",
              "      <th>268</th>\n",
              "      <td>DECEMBER</td>\n",
              "      <td>25</td>\n",
              "      <td>Destroyer</td>\n",
              "      <td>Annapurna Pictures</td>\n",
              "      <td>Karyn Kusama (director); Phil Hay, Matt Manfre...</td>\n",
              "      <td>NaN</td>\n",
              "      <td>[258]</td>\n",
              "    </tr>\n",
              "    <tr>\n",
              "      <th>269</th>\n",
              "      <td>DECEMBER</td>\n",
              "      <td>28</td>\n",
              "      <td>Black Mirror: Bandersnatch</td>\n",
              "      <td>Netflix</td>\n",
              "      <td>David Slade (director); Charlie Brooker (scree...</td>\n",
              "      <td>NaN</td>\n",
              "      <td>[259]</td>\n",
              "    </tr>\n",
              "  </tbody>\n",
              "</table>\n",
              "<p>270 rows × 7 columns</p>\n",
              "</div>"
            ],
            "text/plain": [
              "      Opening  ...   Ref.\n",
              "0     JANUARY  ...    NaN\n",
              "1     JANUARY  ...    NaN\n",
              "2     JANUARY  ...    NaN\n",
              "3     JANUARY  ...    NaN\n",
              "4     JANUARY  ...    NaN\n",
              "..        ...  ...    ...\n",
              "265  DECEMBER  ...  [163]\n",
              "266  DECEMBER  ...  [137]\n",
              "267  DECEMBER  ...  [226]\n",
              "268  DECEMBER  ...  [258]\n",
              "269  DECEMBER  ...  [259]\n",
              "\n",
              "[270 rows x 7 columns]"
            ]
          },
          "metadata": {},
          "execution_count": 4
        }
      ]
    },
    {
      "cell_type": "code",
      "metadata": {
        "colab": {
          "base_uri": "https://localhost:8080/"
        },
        "id": "T2MVo4iQkFi1",
        "outputId": "b1c8cbc5-c5b6-4ca4-d8e6-a9803bfc6e12"
      },
      "source": [
        "pip install tmdbv3api"
      ],
      "execution_count": 6,
      "outputs": [
        {
          "output_type": "stream",
          "name": "stdout",
          "text": [
            "Collecting tmdbv3api\n",
            "  Downloading tmdbv3api-1.7.6-py2.py3-none-any.whl (17 kB)\n",
            "Requirement already satisfied: requests in /usr/local/lib/python3.7/dist-packages (from tmdbv3api) (2.23.0)\n",
            "Requirement already satisfied: chardet<4,>=3.0.2 in /usr/local/lib/python3.7/dist-packages (from requests->tmdbv3api) (3.0.4)\n",
            "Requirement already satisfied: idna<3,>=2.5 in /usr/local/lib/python3.7/dist-packages (from requests->tmdbv3api) (2.10)\n",
            "Requirement already satisfied: urllib3!=1.25.0,!=1.25.1,<1.26,>=1.21.1 in /usr/local/lib/python3.7/dist-packages (from requests->tmdbv3api) (1.24.3)\n",
            "Requirement already satisfied: certifi>=2017.4.17 in /usr/local/lib/python3.7/dist-packages (from requests->tmdbv3api) (2021.5.30)\n",
            "Installing collected packages: tmdbv3api\n",
            "Successfully installed tmdbv3api-1.7.6\n"
          ]
        }
      ]
    },
    {
      "cell_type": "code",
      "metadata": {
        "id": "6x64Hrg2jdz6"
      },
      "source": [
        "from tmdbv3api import TMDb\n",
        "import json\n",
        "import requests\n",
        "tmdb = TMDb()\n",
        "tmdb.api_key = 'b9227b3a56d4b82b29df98e483c97e12'"
      ],
      "execution_count": 8,
      "outputs": []
    },
    {
      "cell_type": "code",
      "metadata": {
        "id": "NMR8eGwRlH2T"
      },
      "source": [
        "from tmdbv3api import Movie\n",
        "tmdb_movie = Movie()\n",
        "def get_genre(x):\n",
        "    genres = []\n",
        "    result = tmdb_movie.search(x)\n",
        "    movie_id = result[0].id\n",
        "    response = requests.get('https://api.themoviedb.org/3/movie/{}?api_key={}'.format(movie_id,tmdb.api_key))\n",
        "    data_json = response.json()\n",
        "    if data_json['genres']:\n",
        "        genre_str = \" \" \n",
        "        for i in range(0,len(data_json['genres'])):\n",
        "            genres.append(data_json['genres'][i]['name'])\n",
        "        return genre_str.join(genres)\n",
        "    else:\n",
        "        np.NaN"
      ],
      "execution_count": 9,
      "outputs": []
    },
    {
      "cell_type": "code",
      "metadata": {
        "id": "yMcBDkNdlJjA"
      },
      "source": [
        "df['genres'] = df['Title'].map(lambda x: get_genre(str(x)))"
      ],
      "execution_count": 10,
      "outputs": []
    },
    {
      "cell_type": "code",
      "metadata": {
        "colab": {
          "base_uri": "https://localhost:8080/",
          "height": 606
        },
        "id": "O-iqJHXOlPY6",
        "outputId": "47b61f42-e775-4aee-d083-ddf4ab7f25a8"
      },
      "source": [
        "df"
      ],
      "execution_count": 11,
      "outputs": [
        {
          "output_type": "execute_result",
          "data": {
            "text/html": [
              "<div>\n",
              "<style scoped>\n",
              "    .dataframe tbody tr th:only-of-type {\n",
              "        vertical-align: middle;\n",
              "    }\n",
              "\n",
              "    .dataframe tbody tr th {\n",
              "        vertical-align: top;\n",
              "    }\n",
              "\n",
              "    .dataframe thead th {\n",
              "        text-align: right;\n",
              "    }\n",
              "</style>\n",
              "<table border=\"1\" class=\"dataframe\">\n",
              "  <thead>\n",
              "    <tr style=\"text-align: right;\">\n",
              "      <th></th>\n",
              "      <th>Opening</th>\n",
              "      <th>Opening.1</th>\n",
              "      <th>Title</th>\n",
              "      <th>Production company</th>\n",
              "      <th>Cast and crew</th>\n",
              "      <th>.mw-parser-output .tooltip-dotted{border-bottom:1px dotted;cursor:help}Ref.</th>\n",
              "      <th>Ref.</th>\n",
              "      <th>genres</th>\n",
              "    </tr>\n",
              "  </thead>\n",
              "  <tbody>\n",
              "    <tr>\n",
              "      <th>0</th>\n",
              "      <td>JANUARY</td>\n",
              "      <td>5</td>\n",
              "      <td>Insidious: The Last Key</td>\n",
              "      <td>Universal Pictures / Blumhouse Productions / S...</td>\n",
              "      <td>Adam Robitel (director); Leigh Whannell (scree...</td>\n",
              "      <td>[2]</td>\n",
              "      <td>NaN</td>\n",
              "      <td>Horror Mystery Thriller</td>\n",
              "    </tr>\n",
              "    <tr>\n",
              "      <th>1</th>\n",
              "      <td>JANUARY</td>\n",
              "      <td>5</td>\n",
              "      <td>The Strange Ones</td>\n",
              "      <td>Vertical Entertainment</td>\n",
              "      <td>Lauren Wolkstein (director); Christopher Radcl...</td>\n",
              "      <td>[3]</td>\n",
              "      <td>NaN</td>\n",
              "      <td>Thriller Drama</td>\n",
              "    </tr>\n",
              "    <tr>\n",
              "      <th>2</th>\n",
              "      <td>JANUARY</td>\n",
              "      <td>5</td>\n",
              "      <td>Stratton</td>\n",
              "      <td>Momentum Pictures</td>\n",
              "      <td>Simon West (director); Duncan Falconer, Warren...</td>\n",
              "      <td>[4]</td>\n",
              "      <td>NaN</td>\n",
              "      <td>Action Thriller</td>\n",
              "    </tr>\n",
              "    <tr>\n",
              "      <th>3</th>\n",
              "      <td>JANUARY</td>\n",
              "      <td>10</td>\n",
              "      <td>Sweet Country</td>\n",
              "      <td>Samuel Goldwyn Films</td>\n",
              "      <td>Warwick Thornton (director); David Tranter, St...</td>\n",
              "      <td>[5]</td>\n",
              "      <td>NaN</td>\n",
              "      <td>Drama History Western</td>\n",
              "    </tr>\n",
              "    <tr>\n",
              "      <th>4</th>\n",
              "      <td>JANUARY</td>\n",
              "      <td>12</td>\n",
              "      <td>The Commuter</td>\n",
              "      <td>Lionsgate / StudioCanal / The Picture Company</td>\n",
              "      <td>Jaume Collet-Serra (director); Byron Willinger...</td>\n",
              "      <td>[6]</td>\n",
              "      <td>NaN</td>\n",
              "      <td>Action Thriller</td>\n",
              "    </tr>\n",
              "    <tr>\n",
              "      <th>...</th>\n",
              "      <td>...</td>\n",
              "      <td>...</td>\n",
              "      <td>...</td>\n",
              "      <td>...</td>\n",
              "      <td>...</td>\n",
              "      <td>...</td>\n",
              "      <td>...</td>\n",
              "      <td>...</td>\n",
              "    </tr>\n",
              "    <tr>\n",
              "      <th>265</th>\n",
              "      <td>DECEMBER</td>\n",
              "      <td>25</td>\n",
              "      <td>Holmes &amp; Watson</td>\n",
              "      <td>Columbia Pictures / Gary Sanchez Productions</td>\n",
              "      <td>Etan Cohen (director/screenplay); Will Ferrell...</td>\n",
              "      <td>NaN</td>\n",
              "      <td>[163]</td>\n",
              "      <td>Mystery Adventure Comedy Crime</td>\n",
              "    </tr>\n",
              "    <tr>\n",
              "      <th>266</th>\n",
              "      <td>DECEMBER</td>\n",
              "      <td>25</td>\n",
              "      <td>Vice</td>\n",
              "      <td>Annapurna Pictures / Plan B Entertainment</td>\n",
              "      <td>Adam McKay (director/screenplay); Christian Ba...</td>\n",
              "      <td>NaN</td>\n",
              "      <td>[137]</td>\n",
              "      <td>Drama History Comedy</td>\n",
              "    </tr>\n",
              "    <tr>\n",
              "      <th>267</th>\n",
              "      <td>DECEMBER</td>\n",
              "      <td>25</td>\n",
              "      <td>On the Basis of Sex</td>\n",
              "      <td>Focus Features</td>\n",
              "      <td>Mimi Leder (director); Daniel Stiepleman (scre...</td>\n",
              "      <td>NaN</td>\n",
              "      <td>[226]</td>\n",
              "      <td>Drama History</td>\n",
              "    </tr>\n",
              "    <tr>\n",
              "      <th>268</th>\n",
              "      <td>DECEMBER</td>\n",
              "      <td>25</td>\n",
              "      <td>Destroyer</td>\n",
              "      <td>Annapurna Pictures</td>\n",
              "      <td>Karyn Kusama (director); Phil Hay, Matt Manfre...</td>\n",
              "      <td>NaN</td>\n",
              "      <td>[258]</td>\n",
              "      <td>Thriller Crime Drama Action</td>\n",
              "    </tr>\n",
              "    <tr>\n",
              "      <th>269</th>\n",
              "      <td>DECEMBER</td>\n",
              "      <td>28</td>\n",
              "      <td>Black Mirror: Bandersnatch</td>\n",
              "      <td>Netflix</td>\n",
              "      <td>David Slade (director); Charlie Brooker (scree...</td>\n",
              "      <td>NaN</td>\n",
              "      <td>[259]</td>\n",
              "      <td>Science Fiction Mystery Drama Thriller TV Movie</td>\n",
              "    </tr>\n",
              "  </tbody>\n",
              "</table>\n",
              "<p>270 rows × 8 columns</p>\n",
              "</div>"
            ],
            "text/plain": [
              "      Opening  ...                                           genres\n",
              "0     JANUARY  ...                          Horror Mystery Thriller\n",
              "1     JANUARY  ...                                   Thriller Drama\n",
              "2     JANUARY  ...                                  Action Thriller\n",
              "3     JANUARY  ...                            Drama History Western\n",
              "4     JANUARY  ...                                  Action Thriller\n",
              "..        ...  ...                                              ...\n",
              "265  DECEMBER  ...                   Mystery Adventure Comedy Crime\n",
              "266  DECEMBER  ...                             Drama History Comedy\n",
              "267  DECEMBER  ...                                    Drama History\n",
              "268  DECEMBER  ...                      Thriller Crime Drama Action\n",
              "269  DECEMBER  ...  Science Fiction Mystery Drama Thriller TV Movie\n",
              "\n",
              "[270 rows x 8 columns]"
            ]
          },
          "metadata": {},
          "execution_count": 11
        }
      ]
    },
    {
      "cell_type": "code",
      "metadata": {
        "id": "t4Ahx8mklTl1"
      },
      "source": [
        "df_2018 = df[['Title','Cast and crew','genres']]"
      ],
      "execution_count": 12,
      "outputs": []
    },
    {
      "cell_type": "code",
      "metadata": {
        "colab": {
          "base_uri": "https://localhost:8080/",
          "height": 419
        },
        "id": "6Krh0BH4lVsD",
        "outputId": "7353fa84-4d5b-4fe8-d2fa-5598ca43be52"
      },
      "source": [
        "df_2018"
      ],
      "execution_count": 13,
      "outputs": [
        {
          "output_type": "execute_result",
          "data": {
            "text/html": [
              "<div>\n",
              "<style scoped>\n",
              "    .dataframe tbody tr th:only-of-type {\n",
              "        vertical-align: middle;\n",
              "    }\n",
              "\n",
              "    .dataframe tbody tr th {\n",
              "        vertical-align: top;\n",
              "    }\n",
              "\n",
              "    .dataframe thead th {\n",
              "        text-align: right;\n",
              "    }\n",
              "</style>\n",
              "<table border=\"1\" class=\"dataframe\">\n",
              "  <thead>\n",
              "    <tr style=\"text-align: right;\">\n",
              "      <th></th>\n",
              "      <th>Title</th>\n",
              "      <th>Cast and crew</th>\n",
              "      <th>genres</th>\n",
              "    </tr>\n",
              "  </thead>\n",
              "  <tbody>\n",
              "    <tr>\n",
              "      <th>0</th>\n",
              "      <td>Insidious: The Last Key</td>\n",
              "      <td>Adam Robitel (director); Leigh Whannell (scree...</td>\n",
              "      <td>Horror Mystery Thriller</td>\n",
              "    </tr>\n",
              "    <tr>\n",
              "      <th>1</th>\n",
              "      <td>The Strange Ones</td>\n",
              "      <td>Lauren Wolkstein (director); Christopher Radcl...</td>\n",
              "      <td>Thriller Drama</td>\n",
              "    </tr>\n",
              "    <tr>\n",
              "      <th>2</th>\n",
              "      <td>Stratton</td>\n",
              "      <td>Simon West (director); Duncan Falconer, Warren...</td>\n",
              "      <td>Action Thriller</td>\n",
              "    </tr>\n",
              "    <tr>\n",
              "      <th>3</th>\n",
              "      <td>Sweet Country</td>\n",
              "      <td>Warwick Thornton (director); David Tranter, St...</td>\n",
              "      <td>Drama History Western</td>\n",
              "    </tr>\n",
              "    <tr>\n",
              "      <th>4</th>\n",
              "      <td>The Commuter</td>\n",
              "      <td>Jaume Collet-Serra (director); Byron Willinger...</td>\n",
              "      <td>Action Thriller</td>\n",
              "    </tr>\n",
              "    <tr>\n",
              "      <th>...</th>\n",
              "      <td>...</td>\n",
              "      <td>...</td>\n",
              "      <td>...</td>\n",
              "    </tr>\n",
              "    <tr>\n",
              "      <th>265</th>\n",
              "      <td>Holmes &amp; Watson</td>\n",
              "      <td>Etan Cohen (director/screenplay); Will Ferrell...</td>\n",
              "      <td>Mystery Adventure Comedy Crime</td>\n",
              "    </tr>\n",
              "    <tr>\n",
              "      <th>266</th>\n",
              "      <td>Vice</td>\n",
              "      <td>Adam McKay (director/screenplay); Christian Ba...</td>\n",
              "      <td>Drama History Comedy</td>\n",
              "    </tr>\n",
              "    <tr>\n",
              "      <th>267</th>\n",
              "      <td>On the Basis of Sex</td>\n",
              "      <td>Mimi Leder (director); Daniel Stiepleman (scre...</td>\n",
              "      <td>Drama History</td>\n",
              "    </tr>\n",
              "    <tr>\n",
              "      <th>268</th>\n",
              "      <td>Destroyer</td>\n",
              "      <td>Karyn Kusama (director); Phil Hay, Matt Manfre...</td>\n",
              "      <td>Thriller Crime Drama Action</td>\n",
              "    </tr>\n",
              "    <tr>\n",
              "      <th>269</th>\n",
              "      <td>Black Mirror: Bandersnatch</td>\n",
              "      <td>David Slade (director); Charlie Brooker (scree...</td>\n",
              "      <td>Science Fiction Mystery Drama Thriller TV Movie</td>\n",
              "    </tr>\n",
              "  </tbody>\n",
              "</table>\n",
              "<p>270 rows × 3 columns</p>\n",
              "</div>"
            ],
            "text/plain": [
              "                          Title  ...                                           genres\n",
              "0       Insidious: The Last Key  ...                          Horror Mystery Thriller\n",
              "1              The Strange Ones  ...                                   Thriller Drama\n",
              "2                      Stratton  ...                                  Action Thriller\n",
              "3                 Sweet Country  ...                            Drama History Western\n",
              "4                  The Commuter  ...                                  Action Thriller\n",
              "..                          ...  ...                                              ...\n",
              "265             Holmes & Watson  ...                   Mystery Adventure Comedy Crime\n",
              "266                        Vice  ...                             Drama History Comedy\n",
              "267         On the Basis of Sex  ...                                    Drama History\n",
              "268                   Destroyer  ...                      Thriller Crime Drama Action\n",
              "269  Black Mirror: Bandersnatch  ...  Science Fiction Mystery Drama Thriller TV Movie\n",
              "\n",
              "[270 rows x 3 columns]"
            ]
          },
          "metadata": {},
          "execution_count": 13
        }
      ]
    },
    {
      "cell_type": "code",
      "metadata": {
        "id": "pbbIzWVBlY84"
      },
      "source": [
        "def get_director(x):\n",
        "    if \" (director)\" in x:\n",
        "        return x.split(\" (director)\")[0]\n",
        "    elif \" (directors)\" in x:\n",
        "        return x.split(\" (directors)\")[0]\n",
        "    else:\n",
        "        return x.split(\" (director/screenplay)\")[0]"
      ],
      "execution_count": 14,
      "outputs": []
    },
    {
      "cell_type": "code",
      "metadata": {
        "colab": {
          "base_uri": "https://localhost:8080/"
        },
        "id": "ZyBNskO_lco4",
        "outputId": "a5266aa4-1821-464a-c758-c924d30d9c1c"
      },
      "source": [
        "df_2018['director_name'] = df_2018['Cast and crew'].map(lambda x: get_director(x))"
      ],
      "execution_count": 15,
      "outputs": [
        {
          "output_type": "stream",
          "name": "stderr",
          "text": [
            "/usr/local/lib/python3.7/dist-packages/ipykernel_launcher.py:1: SettingWithCopyWarning: \n",
            "A value is trying to be set on a copy of a slice from a DataFrame.\n",
            "Try using .loc[row_indexer,col_indexer] = value instead\n",
            "\n",
            "See the caveats in the documentation: https://pandas.pydata.org/pandas-docs/stable/user_guide/indexing.html#returning-a-view-versus-a-copy\n",
            "  \"\"\"Entry point for launching an IPython kernel.\n"
          ]
        }
      ]
    },
    {
      "cell_type": "code",
      "metadata": {
        "id": "YDwP7LgUljS9"
      },
      "source": [
        "def get_actor1(x):\n",
        "    return ((x.split(\"screenplay); \")[-1]).split(\", \")[0])"
      ],
      "execution_count": 16,
      "outputs": []
    },
    {
      "cell_type": "code",
      "metadata": {
        "colab": {
          "base_uri": "https://localhost:8080/"
        },
        "id": "Mk87EqjLlnVV",
        "outputId": "fe17404c-2e8b-4129-f182-fb427204193d"
      },
      "source": [
        "df_2018['actor_1_name'] = df_2018['Cast and crew'].map(lambda x: get_actor1(x))"
      ],
      "execution_count": 17,
      "outputs": [
        {
          "output_type": "stream",
          "name": "stderr",
          "text": [
            "/usr/local/lib/python3.7/dist-packages/ipykernel_launcher.py:1: SettingWithCopyWarning: \n",
            "A value is trying to be set on a copy of a slice from a DataFrame.\n",
            "Try using .loc[row_indexer,col_indexer] = value instead\n",
            "\n",
            "See the caveats in the documentation: https://pandas.pydata.org/pandas-docs/stable/user_guide/indexing.html#returning-a-view-versus-a-copy\n",
            "  \"\"\"Entry point for launching an IPython kernel.\n"
          ]
        }
      ]
    },
    {
      "cell_type": "code",
      "metadata": {
        "id": "oFe5VRT7ltB6"
      },
      "source": [
        "def get_actor2(x):\n",
        "    if len((x.split(\"screenplay); \")[-1]).split(\", \")) < 2:\n",
        "        return np.NaN\n",
        "    else:\n",
        "        return ((x.split(\"screenplay); \")[-1]).split(\", \")[1])"
      ],
      "execution_count": 18,
      "outputs": []
    },
    {
      "cell_type": "code",
      "metadata": {
        "colab": {
          "base_uri": "https://localhost:8080/"
        },
        "id": "3HD5tpMvluFf",
        "outputId": "622154c1-d95c-41c8-8703-e92caec0472f"
      },
      "source": [
        "df_2018['actor_2_name'] = df_2018['Cast and crew'].map(lambda x: get_actor2(x))"
      ],
      "execution_count": 19,
      "outputs": [
        {
          "output_type": "stream",
          "name": "stderr",
          "text": [
            "/usr/local/lib/python3.7/dist-packages/ipykernel_launcher.py:1: SettingWithCopyWarning: \n",
            "A value is trying to be set on a copy of a slice from a DataFrame.\n",
            "Try using .loc[row_indexer,col_indexer] = value instead\n",
            "\n",
            "See the caveats in the documentation: https://pandas.pydata.org/pandas-docs/stable/user_guide/indexing.html#returning-a-view-versus-a-copy\n",
            "  \"\"\"Entry point for launching an IPython kernel.\n"
          ]
        }
      ]
    },
    {
      "cell_type": "code",
      "metadata": {
        "id": "0sSfaUZWlyKz"
      },
      "source": [
        "def get_actor3(x):\n",
        "    if len((x.split(\"screenplay); \")[-1]).split(\", \")) < 3:\n",
        "        return np.NaN\n",
        "    else:\n",
        "        return ((x.split(\"screenplay); \")[-1]).split(\", \")[2])"
      ],
      "execution_count": 20,
      "outputs": []
    },
    {
      "cell_type": "code",
      "metadata": {
        "colab": {
          "base_uri": "https://localhost:8080/"
        },
        "id": "hdcekigRlz_6",
        "outputId": "40f14d4b-de83-4081-cfd8-fa1cdff08e19"
      },
      "source": [
        "df_2018['actor_3_name'] = df_2018['Cast and crew'].map(lambda x: get_actor3(x))"
      ],
      "execution_count": 21,
      "outputs": [
        {
          "output_type": "stream",
          "name": "stderr",
          "text": [
            "/usr/local/lib/python3.7/dist-packages/ipykernel_launcher.py:1: SettingWithCopyWarning: \n",
            "A value is trying to be set on a copy of a slice from a DataFrame.\n",
            "Try using .loc[row_indexer,col_indexer] = value instead\n",
            "\n",
            "See the caveats in the documentation: https://pandas.pydata.org/pandas-docs/stable/user_guide/indexing.html#returning-a-view-versus-a-copy\n",
            "  \"\"\"Entry point for launching an IPython kernel.\n"
          ]
        }
      ]
    },
    {
      "cell_type": "code",
      "metadata": {
        "colab": {
          "base_uri": "https://localhost:8080/",
          "height": 419
        },
        "id": "l24LEvcfl2G6",
        "outputId": "cca47d6e-97f1-4798-c8f7-f4854c8c0bdf"
      },
      "source": [
        "df_2018"
      ],
      "execution_count": 22,
      "outputs": [
        {
          "output_type": "execute_result",
          "data": {
            "text/html": [
              "<div>\n",
              "<style scoped>\n",
              "    .dataframe tbody tr th:only-of-type {\n",
              "        vertical-align: middle;\n",
              "    }\n",
              "\n",
              "    .dataframe tbody tr th {\n",
              "        vertical-align: top;\n",
              "    }\n",
              "\n",
              "    .dataframe thead th {\n",
              "        text-align: right;\n",
              "    }\n",
              "</style>\n",
              "<table border=\"1\" class=\"dataframe\">\n",
              "  <thead>\n",
              "    <tr style=\"text-align: right;\">\n",
              "      <th></th>\n",
              "      <th>Title</th>\n",
              "      <th>Cast and crew</th>\n",
              "      <th>genres</th>\n",
              "      <th>director_name</th>\n",
              "      <th>actor_1_name</th>\n",
              "      <th>actor_2_name</th>\n",
              "      <th>actor_3_name</th>\n",
              "    </tr>\n",
              "  </thead>\n",
              "  <tbody>\n",
              "    <tr>\n",
              "      <th>0</th>\n",
              "      <td>Insidious: The Last Key</td>\n",
              "      <td>Adam Robitel (director); Leigh Whannell (scree...</td>\n",
              "      <td>Horror Mystery Thriller</td>\n",
              "      <td>Adam Robitel</td>\n",
              "      <td>Lin Shaye</td>\n",
              "      <td>Angus Sampson</td>\n",
              "      <td>Leigh Whannell</td>\n",
              "    </tr>\n",
              "    <tr>\n",
              "      <th>1</th>\n",
              "      <td>The Strange Ones</td>\n",
              "      <td>Lauren Wolkstein (director); Christopher Radcl...</td>\n",
              "      <td>Thriller Drama</td>\n",
              "      <td>Lauren Wolkstein</td>\n",
              "      <td>Alex Pettyfer</td>\n",
              "      <td>James Freedson-Jackson</td>\n",
              "      <td>Emily Althaus</td>\n",
              "    </tr>\n",
              "    <tr>\n",
              "      <th>2</th>\n",
              "      <td>Stratton</td>\n",
              "      <td>Simon West (director); Duncan Falconer, Warren...</td>\n",
              "      <td>Action Thriller</td>\n",
              "      <td>Simon West</td>\n",
              "      <td>Dominic Cooper</td>\n",
              "      <td>Austin Stowell</td>\n",
              "      <td>Gemma Chan</td>\n",
              "    </tr>\n",
              "    <tr>\n",
              "      <th>3</th>\n",
              "      <td>Sweet Country</td>\n",
              "      <td>Warwick Thornton (director); David Tranter, St...</td>\n",
              "      <td>Drama History Western</td>\n",
              "      <td>Warwick Thornton</td>\n",
              "      <td>Bryan Brown</td>\n",
              "      <td>Sam Neill</td>\n",
              "      <td>NaN</td>\n",
              "    </tr>\n",
              "    <tr>\n",
              "      <th>4</th>\n",
              "      <td>The Commuter</td>\n",
              "      <td>Jaume Collet-Serra (director); Byron Willinger...</td>\n",
              "      <td>Action Thriller</td>\n",
              "      <td>Jaume Collet-Serra</td>\n",
              "      <td>Liam Neeson</td>\n",
              "      <td>Vera Farmiga</td>\n",
              "      <td>Patrick Wilson</td>\n",
              "    </tr>\n",
              "    <tr>\n",
              "      <th>...</th>\n",
              "      <td>...</td>\n",
              "      <td>...</td>\n",
              "      <td>...</td>\n",
              "      <td>...</td>\n",
              "      <td>...</td>\n",
              "      <td>...</td>\n",
              "      <td>...</td>\n",
              "    </tr>\n",
              "    <tr>\n",
              "      <th>265</th>\n",
              "      <td>Holmes &amp; Watson</td>\n",
              "      <td>Etan Cohen (director/screenplay); Will Ferrell...</td>\n",
              "      <td>Mystery Adventure Comedy Crime</td>\n",
              "      <td>Etan Cohen</td>\n",
              "      <td>Will Ferrell</td>\n",
              "      <td>John C. Reilly</td>\n",
              "      <td>Rebecca Hall</td>\n",
              "    </tr>\n",
              "    <tr>\n",
              "      <th>266</th>\n",
              "      <td>Vice</td>\n",
              "      <td>Adam McKay (director/screenplay); Christian Ba...</td>\n",
              "      <td>Drama History Comedy</td>\n",
              "      <td>Adam McKay</td>\n",
              "      <td>Christian Bale</td>\n",
              "      <td>Amy Adams</td>\n",
              "      <td>Steve Carell</td>\n",
              "    </tr>\n",
              "    <tr>\n",
              "      <th>267</th>\n",
              "      <td>On the Basis of Sex</td>\n",
              "      <td>Mimi Leder (director); Daniel Stiepleman (scre...</td>\n",
              "      <td>Drama History</td>\n",
              "      <td>Mimi Leder</td>\n",
              "      <td>Felicity Jones</td>\n",
              "      <td>Armie Hammer</td>\n",
              "      <td>Justin Theroux</td>\n",
              "    </tr>\n",
              "    <tr>\n",
              "      <th>268</th>\n",
              "      <td>Destroyer</td>\n",
              "      <td>Karyn Kusama (director); Phil Hay, Matt Manfre...</td>\n",
              "      <td>Thriller Crime Drama Action</td>\n",
              "      <td>Karyn Kusama</td>\n",
              "      <td>Nicole Kidman</td>\n",
              "      <td>Sebastian Stan</td>\n",
              "      <td>Toby Kebbell</td>\n",
              "    </tr>\n",
              "    <tr>\n",
              "      <th>269</th>\n",
              "      <td>Black Mirror: Bandersnatch</td>\n",
              "      <td>David Slade (director); Charlie Brooker (scree...</td>\n",
              "      <td>Science Fiction Mystery Drama Thriller TV Movie</td>\n",
              "      <td>David Slade</td>\n",
              "      <td>Fionn Whitehead</td>\n",
              "      <td>Will Poulter</td>\n",
              "      <td>Asim Chaudhry</td>\n",
              "    </tr>\n",
              "  </tbody>\n",
              "</table>\n",
              "<p>270 rows × 7 columns</p>\n",
              "</div>"
            ],
            "text/plain": [
              "                          Title  ...    actor_3_name\n",
              "0       Insidious: The Last Key  ...  Leigh Whannell\n",
              "1              The Strange Ones  ...   Emily Althaus\n",
              "2                      Stratton  ...      Gemma Chan\n",
              "3                 Sweet Country  ...             NaN\n",
              "4                  The Commuter  ...  Patrick Wilson\n",
              "..                          ...  ...             ...\n",
              "265             Holmes & Watson  ...    Rebecca Hall\n",
              "266                        Vice  ...    Steve Carell\n",
              "267         On the Basis of Sex  ...  Justin Theroux\n",
              "268                   Destroyer  ...    Toby Kebbell\n",
              "269  Black Mirror: Bandersnatch  ...   Asim Chaudhry\n",
              "\n",
              "[270 rows x 7 columns]"
            ]
          },
          "metadata": {},
          "execution_count": 22
        }
      ]
    },
    {
      "cell_type": "code",
      "metadata": {
        "id": "lAh_qYkTmKCi"
      },
      "source": [
        "df_2018 = df_2018.rename(columns={'Title':'movie_title'})"
      ],
      "execution_count": 23,
      "outputs": []
    },
    {
      "cell_type": "code",
      "metadata": {
        "id": "KNyk6wtymMej"
      },
      "source": [
        "new_df18 = df_2018.loc[:,['director_name','actor_1_name','actor_2_name','actor_3_name','genres','movie_title']]"
      ],
      "execution_count": 24,
      "outputs": []
    },
    {
      "cell_type": "code",
      "metadata": {
        "colab": {
          "base_uri": "https://localhost:8080/",
          "height": 419
        },
        "id": "YglweANPmPLd",
        "outputId": "841f1dd2-c2c1-495c-80be-3e0d58be2840"
      },
      "source": [
        "new_df18"
      ],
      "execution_count": 25,
      "outputs": [
        {
          "output_type": "execute_result",
          "data": {
            "text/html": [
              "<div>\n",
              "<style scoped>\n",
              "    .dataframe tbody tr th:only-of-type {\n",
              "        vertical-align: middle;\n",
              "    }\n",
              "\n",
              "    .dataframe tbody tr th {\n",
              "        vertical-align: top;\n",
              "    }\n",
              "\n",
              "    .dataframe thead th {\n",
              "        text-align: right;\n",
              "    }\n",
              "</style>\n",
              "<table border=\"1\" class=\"dataframe\">\n",
              "  <thead>\n",
              "    <tr style=\"text-align: right;\">\n",
              "      <th></th>\n",
              "      <th>director_name</th>\n",
              "      <th>actor_1_name</th>\n",
              "      <th>actor_2_name</th>\n",
              "      <th>actor_3_name</th>\n",
              "      <th>genres</th>\n",
              "      <th>movie_title</th>\n",
              "    </tr>\n",
              "  </thead>\n",
              "  <tbody>\n",
              "    <tr>\n",
              "      <th>0</th>\n",
              "      <td>Adam Robitel</td>\n",
              "      <td>Lin Shaye</td>\n",
              "      <td>Angus Sampson</td>\n",
              "      <td>Leigh Whannell</td>\n",
              "      <td>Horror Mystery Thriller</td>\n",
              "      <td>Insidious: The Last Key</td>\n",
              "    </tr>\n",
              "    <tr>\n",
              "      <th>1</th>\n",
              "      <td>Lauren Wolkstein</td>\n",
              "      <td>Alex Pettyfer</td>\n",
              "      <td>James Freedson-Jackson</td>\n",
              "      <td>Emily Althaus</td>\n",
              "      <td>Thriller Drama</td>\n",
              "      <td>The Strange Ones</td>\n",
              "    </tr>\n",
              "    <tr>\n",
              "      <th>2</th>\n",
              "      <td>Simon West</td>\n",
              "      <td>Dominic Cooper</td>\n",
              "      <td>Austin Stowell</td>\n",
              "      <td>Gemma Chan</td>\n",
              "      <td>Action Thriller</td>\n",
              "      <td>Stratton</td>\n",
              "    </tr>\n",
              "    <tr>\n",
              "      <th>3</th>\n",
              "      <td>Warwick Thornton</td>\n",
              "      <td>Bryan Brown</td>\n",
              "      <td>Sam Neill</td>\n",
              "      <td>NaN</td>\n",
              "      <td>Drama History Western</td>\n",
              "      <td>Sweet Country</td>\n",
              "    </tr>\n",
              "    <tr>\n",
              "      <th>4</th>\n",
              "      <td>Jaume Collet-Serra</td>\n",
              "      <td>Liam Neeson</td>\n",
              "      <td>Vera Farmiga</td>\n",
              "      <td>Patrick Wilson</td>\n",
              "      <td>Action Thriller</td>\n",
              "      <td>The Commuter</td>\n",
              "    </tr>\n",
              "    <tr>\n",
              "      <th>...</th>\n",
              "      <td>...</td>\n",
              "      <td>...</td>\n",
              "      <td>...</td>\n",
              "      <td>...</td>\n",
              "      <td>...</td>\n",
              "      <td>...</td>\n",
              "    </tr>\n",
              "    <tr>\n",
              "      <th>265</th>\n",
              "      <td>Etan Cohen</td>\n",
              "      <td>Will Ferrell</td>\n",
              "      <td>John C. Reilly</td>\n",
              "      <td>Rebecca Hall</td>\n",
              "      <td>Mystery Adventure Comedy Crime</td>\n",
              "      <td>Holmes &amp; Watson</td>\n",
              "    </tr>\n",
              "    <tr>\n",
              "      <th>266</th>\n",
              "      <td>Adam McKay</td>\n",
              "      <td>Christian Bale</td>\n",
              "      <td>Amy Adams</td>\n",
              "      <td>Steve Carell</td>\n",
              "      <td>Drama History Comedy</td>\n",
              "      <td>Vice</td>\n",
              "    </tr>\n",
              "    <tr>\n",
              "      <th>267</th>\n",
              "      <td>Mimi Leder</td>\n",
              "      <td>Felicity Jones</td>\n",
              "      <td>Armie Hammer</td>\n",
              "      <td>Justin Theroux</td>\n",
              "      <td>Drama History</td>\n",
              "      <td>On the Basis of Sex</td>\n",
              "    </tr>\n",
              "    <tr>\n",
              "      <th>268</th>\n",
              "      <td>Karyn Kusama</td>\n",
              "      <td>Nicole Kidman</td>\n",
              "      <td>Sebastian Stan</td>\n",
              "      <td>Toby Kebbell</td>\n",
              "      <td>Thriller Crime Drama Action</td>\n",
              "      <td>Destroyer</td>\n",
              "    </tr>\n",
              "    <tr>\n",
              "      <th>269</th>\n",
              "      <td>David Slade</td>\n",
              "      <td>Fionn Whitehead</td>\n",
              "      <td>Will Poulter</td>\n",
              "      <td>Asim Chaudhry</td>\n",
              "      <td>Science Fiction Mystery Drama Thriller TV Movie</td>\n",
              "      <td>Black Mirror: Bandersnatch</td>\n",
              "    </tr>\n",
              "  </tbody>\n",
              "</table>\n",
              "<p>270 rows × 6 columns</p>\n",
              "</div>"
            ],
            "text/plain": [
              "          director_name  ...                 movie_title\n",
              "0          Adam Robitel  ...     Insidious: The Last Key\n",
              "1      Lauren Wolkstein  ...            The Strange Ones\n",
              "2            Simon West  ...                    Stratton\n",
              "3      Warwick Thornton  ...               Sweet Country\n",
              "4    Jaume Collet-Serra  ...                The Commuter\n",
              "..                  ...  ...                         ...\n",
              "265          Etan Cohen  ...             Holmes & Watson\n",
              "266          Adam McKay  ...                        Vice\n",
              "267          Mimi Leder  ...         On the Basis of Sex\n",
              "268        Karyn Kusama  ...                   Destroyer\n",
              "269         David Slade  ...  Black Mirror: Bandersnatch\n",
              "\n",
              "[270 rows x 6 columns]"
            ]
          },
          "metadata": {},
          "execution_count": 25
        }
      ]
    },
    {
      "cell_type": "code",
      "metadata": {
        "id": "VgGu7JnQmTid"
      },
      "source": [
        "new_df18['actor_2_name'] = new_df18['actor_2_name'].replace(np.nan, 'unknown')\n",
        "new_df18['actor_3_name'] = new_df18['actor_3_name'].replace(np.nan, 'unknown')"
      ],
      "execution_count": 26,
      "outputs": []
    },
    {
      "cell_type": "code",
      "metadata": {
        "id": "4Oh_mS5qmV8g"
      },
      "source": [
        "new_df18['movie_title'] = new_df18['movie_title'].str.lower()"
      ],
      "execution_count": 27,
      "outputs": []
    },
    {
      "cell_type": "code",
      "metadata": {
        "id": "31u1LvBImYNf"
      },
      "source": [
        "new_df18['comb'] = new_df18['actor_1_name'] + ' ' + new_df18['actor_2_name'] + ' '+ new_df18['actor_3_name'] + ' '+ new_df18['director_name'] +' ' + new_df18['genres']"
      ],
      "execution_count": 28,
      "outputs": []
    },
    {
      "cell_type": "code",
      "metadata": {
        "colab": {
          "base_uri": "https://localhost:8080/",
          "height": 419
        },
        "id": "q2JPPX8vmdZz",
        "outputId": "8b598c7f-2223-4925-b85d-ede8c1446afc"
      },
      "source": [
        "new_df18"
      ],
      "execution_count": 29,
      "outputs": [
        {
          "output_type": "execute_result",
          "data": {
            "text/html": [
              "<div>\n",
              "<style scoped>\n",
              "    .dataframe tbody tr th:only-of-type {\n",
              "        vertical-align: middle;\n",
              "    }\n",
              "\n",
              "    .dataframe tbody tr th {\n",
              "        vertical-align: top;\n",
              "    }\n",
              "\n",
              "    .dataframe thead th {\n",
              "        text-align: right;\n",
              "    }\n",
              "</style>\n",
              "<table border=\"1\" class=\"dataframe\">\n",
              "  <thead>\n",
              "    <tr style=\"text-align: right;\">\n",
              "      <th></th>\n",
              "      <th>director_name</th>\n",
              "      <th>actor_1_name</th>\n",
              "      <th>actor_2_name</th>\n",
              "      <th>actor_3_name</th>\n",
              "      <th>genres</th>\n",
              "      <th>movie_title</th>\n",
              "      <th>comb</th>\n",
              "    </tr>\n",
              "  </thead>\n",
              "  <tbody>\n",
              "    <tr>\n",
              "      <th>0</th>\n",
              "      <td>Adam Robitel</td>\n",
              "      <td>Lin Shaye</td>\n",
              "      <td>Angus Sampson</td>\n",
              "      <td>Leigh Whannell</td>\n",
              "      <td>Horror Mystery Thriller</td>\n",
              "      <td>insidious: the last key</td>\n",
              "      <td>Lin Shaye Angus Sampson Leigh Whannell Adam Ro...</td>\n",
              "    </tr>\n",
              "    <tr>\n",
              "      <th>1</th>\n",
              "      <td>Lauren Wolkstein</td>\n",
              "      <td>Alex Pettyfer</td>\n",
              "      <td>James Freedson-Jackson</td>\n",
              "      <td>Emily Althaus</td>\n",
              "      <td>Thriller Drama</td>\n",
              "      <td>the strange ones</td>\n",
              "      <td>Alex Pettyfer James Freedson-Jackson Emily Alt...</td>\n",
              "    </tr>\n",
              "    <tr>\n",
              "      <th>2</th>\n",
              "      <td>Simon West</td>\n",
              "      <td>Dominic Cooper</td>\n",
              "      <td>Austin Stowell</td>\n",
              "      <td>Gemma Chan</td>\n",
              "      <td>Action Thriller</td>\n",
              "      <td>stratton</td>\n",
              "      <td>Dominic Cooper Austin Stowell Gemma Chan Simon...</td>\n",
              "    </tr>\n",
              "    <tr>\n",
              "      <th>3</th>\n",
              "      <td>Warwick Thornton</td>\n",
              "      <td>Bryan Brown</td>\n",
              "      <td>Sam Neill</td>\n",
              "      <td>unknown</td>\n",
              "      <td>Drama History Western</td>\n",
              "      <td>sweet country</td>\n",
              "      <td>Bryan Brown Sam Neill unknown Warwick Thornton...</td>\n",
              "    </tr>\n",
              "    <tr>\n",
              "      <th>4</th>\n",
              "      <td>Jaume Collet-Serra</td>\n",
              "      <td>Liam Neeson</td>\n",
              "      <td>Vera Farmiga</td>\n",
              "      <td>Patrick Wilson</td>\n",
              "      <td>Action Thriller</td>\n",
              "      <td>the commuter</td>\n",
              "      <td>Liam Neeson Vera Farmiga Patrick Wilson Jaume ...</td>\n",
              "    </tr>\n",
              "    <tr>\n",
              "      <th>...</th>\n",
              "      <td>...</td>\n",
              "      <td>...</td>\n",
              "      <td>...</td>\n",
              "      <td>...</td>\n",
              "      <td>...</td>\n",
              "      <td>...</td>\n",
              "      <td>...</td>\n",
              "    </tr>\n",
              "    <tr>\n",
              "      <th>265</th>\n",
              "      <td>Etan Cohen</td>\n",
              "      <td>Will Ferrell</td>\n",
              "      <td>John C. Reilly</td>\n",
              "      <td>Rebecca Hall</td>\n",
              "      <td>Mystery Adventure Comedy Crime</td>\n",
              "      <td>holmes &amp; watson</td>\n",
              "      <td>Will Ferrell John C. Reilly Rebecca Hall Etan ...</td>\n",
              "    </tr>\n",
              "    <tr>\n",
              "      <th>266</th>\n",
              "      <td>Adam McKay</td>\n",
              "      <td>Christian Bale</td>\n",
              "      <td>Amy Adams</td>\n",
              "      <td>Steve Carell</td>\n",
              "      <td>Drama History Comedy</td>\n",
              "      <td>vice</td>\n",
              "      <td>Christian Bale Amy Adams Steve Carell Adam McK...</td>\n",
              "    </tr>\n",
              "    <tr>\n",
              "      <th>267</th>\n",
              "      <td>Mimi Leder</td>\n",
              "      <td>Felicity Jones</td>\n",
              "      <td>Armie Hammer</td>\n",
              "      <td>Justin Theroux</td>\n",
              "      <td>Drama History</td>\n",
              "      <td>on the basis of sex</td>\n",
              "      <td>Felicity Jones Armie Hammer Justin Theroux Mim...</td>\n",
              "    </tr>\n",
              "    <tr>\n",
              "      <th>268</th>\n",
              "      <td>Karyn Kusama</td>\n",
              "      <td>Nicole Kidman</td>\n",
              "      <td>Sebastian Stan</td>\n",
              "      <td>Toby Kebbell</td>\n",
              "      <td>Thriller Crime Drama Action</td>\n",
              "      <td>destroyer</td>\n",
              "      <td>Nicole Kidman Sebastian Stan Toby Kebbell Kary...</td>\n",
              "    </tr>\n",
              "    <tr>\n",
              "      <th>269</th>\n",
              "      <td>David Slade</td>\n",
              "      <td>Fionn Whitehead</td>\n",
              "      <td>Will Poulter</td>\n",
              "      <td>Asim Chaudhry</td>\n",
              "      <td>Science Fiction Mystery Drama Thriller TV Movie</td>\n",
              "      <td>black mirror: bandersnatch</td>\n",
              "      <td>Fionn Whitehead Will Poulter Asim Chaudhry Dav...</td>\n",
              "    </tr>\n",
              "  </tbody>\n",
              "</table>\n",
              "<p>270 rows × 7 columns</p>\n",
              "</div>"
            ],
            "text/plain": [
              "          director_name  ...                                               comb\n",
              "0          Adam Robitel  ...  Lin Shaye Angus Sampson Leigh Whannell Adam Ro...\n",
              "1      Lauren Wolkstein  ...  Alex Pettyfer James Freedson-Jackson Emily Alt...\n",
              "2            Simon West  ...  Dominic Cooper Austin Stowell Gemma Chan Simon...\n",
              "3      Warwick Thornton  ...  Bryan Brown Sam Neill unknown Warwick Thornton...\n",
              "4    Jaume Collet-Serra  ...  Liam Neeson Vera Farmiga Patrick Wilson Jaume ...\n",
              "..                  ...  ...                                                ...\n",
              "265          Etan Cohen  ...  Will Ferrell John C. Reilly Rebecca Hall Etan ...\n",
              "266          Adam McKay  ...  Christian Bale Amy Adams Steve Carell Adam McK...\n",
              "267          Mimi Leder  ...  Felicity Jones Armie Hammer Justin Theroux Mim...\n",
              "268        Karyn Kusama  ...  Nicole Kidman Sebastian Stan Toby Kebbell Kary...\n",
              "269         David Slade  ...  Fionn Whitehead Will Poulter Asim Chaudhry Dav...\n",
              "\n",
              "[270 rows x 7 columns]"
            ]
          },
          "metadata": {},
          "execution_count": 29
        }
      ]
    },
    {
      "cell_type": "markdown",
      "metadata": {
        "id": "h7B7SATbmkIA"
      },
      "source": [
        "Extracting features of 2019 movies from Wikipedia"
      ]
    },
    {
      "cell_type": "code",
      "metadata": {
        "id": "hmeUMnwCmk7U"
      },
      "source": [
        "link = \"https://en.wikipedia.org/wiki/List_of_American_films_of_2019\"\n",
        "df1 = pd.read_html(link, header=0)[2]\n",
        "df2 = pd.read_html(link, header=0)[3]\n",
        "df3 = pd.read_html(link, header=0)[4]\n",
        "df4 = pd.read_html(link, header=0)[5]"
      ],
      "execution_count": 30,
      "outputs": []
    },
    {
      "cell_type": "code",
      "metadata": {
        "id": "ek5ysYKsmpgS"
      },
      "source": [
        "df = df1.append(df2.append(df3.append(df4,ignore_index=True),ignore_index=True),ignore_index=True)"
      ],
      "execution_count": 31,
      "outputs": []
    },
    {
      "cell_type": "code",
      "metadata": {
        "colab": {
          "base_uri": "https://localhost:8080/",
          "height": 419
        },
        "id": "lrPBntMKmpMq",
        "outputId": "4f0bb7ea-bea4-4410-cf47-bd1509f22887"
      },
      "source": [
        "df"
      ],
      "execution_count": 32,
      "outputs": [
        {
          "output_type": "execute_result",
          "data": {
            "text/html": [
              "<div>\n",
              "<style scoped>\n",
              "    .dataframe tbody tr th:only-of-type {\n",
              "        vertical-align: middle;\n",
              "    }\n",
              "\n",
              "    .dataframe tbody tr th {\n",
              "        vertical-align: top;\n",
              "    }\n",
              "\n",
              "    .dataframe thead th {\n",
              "        text-align: right;\n",
              "    }\n",
              "</style>\n",
              "<table border=\"1\" class=\"dataframe\">\n",
              "  <thead>\n",
              "    <tr style=\"text-align: right;\">\n",
              "      <th></th>\n",
              "      <th>Opening</th>\n",
              "      <th>Opening.1</th>\n",
              "      <th>Title</th>\n",
              "      <th>Production company</th>\n",
              "      <th>Cast and crew</th>\n",
              "      <th>Ref.</th>\n",
              "    </tr>\n",
              "  </thead>\n",
              "  <tbody>\n",
              "    <tr>\n",
              "      <th>0</th>\n",
              "      <td>JANUARY</td>\n",
              "      <td>4</td>\n",
              "      <td>Escape Room</td>\n",
              "      <td>Columbia Pictures</td>\n",
              "      <td>Adam Robitel (director); Bragi F. Schut, Maria...</td>\n",
              "      <td>[2]</td>\n",
              "    </tr>\n",
              "    <tr>\n",
              "      <th>1</th>\n",
              "      <td>JANUARY</td>\n",
              "      <td>4</td>\n",
              "      <td>Rust Creek</td>\n",
              "      <td>IFC Films</td>\n",
              "      <td>Jen McGowan (director); Julie Lipson (screenpl...</td>\n",
              "      <td>[3]</td>\n",
              "    </tr>\n",
              "    <tr>\n",
              "      <th>2</th>\n",
              "      <td>JANUARY</td>\n",
              "      <td>4</td>\n",
              "      <td>American Hangman</td>\n",
              "      <td>Hangman Justice Productions</td>\n",
              "      <td>Wilson Coneybeare (director/screenplay); Donal...</td>\n",
              "      <td>[4]</td>\n",
              "    </tr>\n",
              "    <tr>\n",
              "      <th>3</th>\n",
              "      <td>JANUARY</td>\n",
              "      <td>11</td>\n",
              "      <td>A Dog's Way Home</td>\n",
              "      <td>Columbia Pictures</td>\n",
              "      <td>Charles Martin Smith (director); W. Bruce Came...</td>\n",
              "      <td>[5]</td>\n",
              "    </tr>\n",
              "    <tr>\n",
              "      <th>4</th>\n",
              "      <td>JANUARY</td>\n",
              "      <td>11</td>\n",
              "      <td>The Upside</td>\n",
              "      <td>STX Entertainment</td>\n",
              "      <td>Neil Burger (director); Jon Hartmere (screenpl...</td>\n",
              "      <td>[6]</td>\n",
              "    </tr>\n",
              "    <tr>\n",
              "      <th>...</th>\n",
              "      <td>...</td>\n",
              "      <td>...</td>\n",
              "      <td>...</td>\n",
              "      <td>...</td>\n",
              "      <td>...</td>\n",
              "      <td>...</td>\n",
              "    </tr>\n",
              "    <tr>\n",
              "      <th>237</th>\n",
              "      <td>DECEMBER</td>\n",
              "      <td>25</td>\n",
              "      <td>Spies in Disguise</td>\n",
              "      <td>20th Century Fox / Blue Sky Studios / Chernin ...</td>\n",
              "      <td>Nick Bruno, Troy Quane (directors); Brad Copel...</td>\n",
              "      <td>[132]</td>\n",
              "    </tr>\n",
              "    <tr>\n",
              "      <th>238</th>\n",
              "      <td>DECEMBER</td>\n",
              "      <td>25</td>\n",
              "      <td>Little Women</td>\n",
              "      <td>Columbia Pictures / Regency Enterprises</td>\n",
              "      <td>Greta Gerwig (director/screenplay); Saoirse Ro...</td>\n",
              "      <td>[221]</td>\n",
              "    </tr>\n",
              "    <tr>\n",
              "      <th>239</th>\n",
              "      <td>DECEMBER</td>\n",
              "      <td>25</td>\n",
              "      <td>1917</td>\n",
              "      <td>Universal Pictures / DreamWorks Pictures / Ent...</td>\n",
              "      <td>Sam Mendes (director/screenplay); Krysty Wilso...</td>\n",
              "      <td>[222]</td>\n",
              "    </tr>\n",
              "    <tr>\n",
              "      <th>240</th>\n",
              "      <td>DECEMBER</td>\n",
              "      <td>25</td>\n",
              "      <td>Just Mercy</td>\n",
              "      <td>Warner Bros. Pictures / Participant Media</td>\n",
              "      <td>Destin Daniel Cretton (director/screenplay), A...</td>\n",
              "      <td>[223]</td>\n",
              "    </tr>\n",
              "    <tr>\n",
              "      <th>241</th>\n",
              "      <td>DECEMBER</td>\n",
              "      <td>27</td>\n",
              "      <td>Clemency</td>\n",
              "      <td>Neon</td>\n",
              "      <td>Chinonye Chukwu (director/screenplay); Alfre W...</td>\n",
              "      <td>[224]</td>\n",
              "    </tr>\n",
              "  </tbody>\n",
              "</table>\n",
              "<p>242 rows × 6 columns</p>\n",
              "</div>"
            ],
            "text/plain": [
              "      Opening  ...   Ref.\n",
              "0     JANUARY  ...    [2]\n",
              "1     JANUARY  ...    [3]\n",
              "2     JANUARY  ...    [4]\n",
              "3     JANUARY  ...    [5]\n",
              "4     JANUARY  ...    [6]\n",
              "..        ...  ...    ...\n",
              "237  DECEMBER  ...  [132]\n",
              "238  DECEMBER  ...  [221]\n",
              "239  DECEMBER  ...  [222]\n",
              "240  DECEMBER  ...  [223]\n",
              "241  DECEMBER  ...  [224]\n",
              "\n",
              "[242 rows x 6 columns]"
            ]
          },
          "metadata": {},
          "execution_count": 32
        }
      ]
    },
    {
      "cell_type": "code",
      "metadata": {
        "id": "pd8rW6mfmv5T"
      },
      "source": [
        "df['genres'] = df['Title'].map(lambda x: get_genre(str(x)))"
      ],
      "execution_count": 33,
      "outputs": []
    },
    {
      "cell_type": "code",
      "metadata": {
        "id": "GhVmpFXYmyQx"
      },
      "source": [
        "df_2019 = df[['Title','Cast and crew','genres']]"
      ],
      "execution_count": 34,
      "outputs": []
    },
    {
      "cell_type": "code",
      "metadata": {
        "colab": {
          "base_uri": "https://localhost:8080/",
          "height": 419
        },
        "id": "h1N15w6Jm1Um",
        "outputId": "e10e7b9c-3791-41f4-eadc-d3df081131b9"
      },
      "source": [
        "df_2019"
      ],
      "execution_count": 35,
      "outputs": [
        {
          "output_type": "execute_result",
          "data": {
            "text/html": [
              "<div>\n",
              "<style scoped>\n",
              "    .dataframe tbody tr th:only-of-type {\n",
              "        vertical-align: middle;\n",
              "    }\n",
              "\n",
              "    .dataframe tbody tr th {\n",
              "        vertical-align: top;\n",
              "    }\n",
              "\n",
              "    .dataframe thead th {\n",
              "        text-align: right;\n",
              "    }\n",
              "</style>\n",
              "<table border=\"1\" class=\"dataframe\">\n",
              "  <thead>\n",
              "    <tr style=\"text-align: right;\">\n",
              "      <th></th>\n",
              "      <th>Title</th>\n",
              "      <th>Cast and crew</th>\n",
              "      <th>genres</th>\n",
              "    </tr>\n",
              "  </thead>\n",
              "  <tbody>\n",
              "    <tr>\n",
              "      <th>0</th>\n",
              "      <td>Escape Room</td>\n",
              "      <td>Adam Robitel (director); Bragi F. Schut, Maria...</td>\n",
              "      <td>Thriller Action Mystery Horror</td>\n",
              "    </tr>\n",
              "    <tr>\n",
              "      <th>1</th>\n",
              "      <td>Rust Creek</td>\n",
              "      <td>Jen McGowan (director); Julie Lipson (screenpl...</td>\n",
              "      <td>Thriller Drama</td>\n",
              "    </tr>\n",
              "    <tr>\n",
              "      <th>2</th>\n",
              "      <td>American Hangman</td>\n",
              "      <td>Wilson Coneybeare (director/screenplay); Donal...</td>\n",
              "      <td>Thriller</td>\n",
              "    </tr>\n",
              "    <tr>\n",
              "      <th>3</th>\n",
              "      <td>A Dog's Way Home</td>\n",
              "      <td>Charles Martin Smith (director); W. Bruce Came...</td>\n",
              "      <td>Drama Adventure Family</td>\n",
              "    </tr>\n",
              "    <tr>\n",
              "      <th>4</th>\n",
              "      <td>The Upside</td>\n",
              "      <td>Neil Burger (director); Jon Hartmere (screenpl...</td>\n",
              "      <td>Comedy Drama</td>\n",
              "    </tr>\n",
              "    <tr>\n",
              "      <th>...</th>\n",
              "      <td>...</td>\n",
              "      <td>...</td>\n",
              "      <td>...</td>\n",
              "    </tr>\n",
              "    <tr>\n",
              "      <th>237</th>\n",
              "      <td>Spies in Disguise</td>\n",
              "      <td>Nick Bruno, Troy Quane (directors); Brad Copel...</td>\n",
              "      <td>Animation Action Adventure Comedy Family</td>\n",
              "    </tr>\n",
              "    <tr>\n",
              "      <th>238</th>\n",
              "      <td>Little Women</td>\n",
              "      <td>Greta Gerwig (director/screenplay); Saoirse Ro...</td>\n",
              "      <td>Drama Romance</td>\n",
              "    </tr>\n",
              "    <tr>\n",
              "      <th>239</th>\n",
              "      <td>1917</td>\n",
              "      <td>Sam Mendes (director/screenplay); Krysty Wilso...</td>\n",
              "      <td>War Drama Action Thriller</td>\n",
              "    </tr>\n",
              "    <tr>\n",
              "      <th>240</th>\n",
              "      <td>Just Mercy</td>\n",
              "      <td>Destin Daniel Cretton (director/screenplay), A...</td>\n",
              "      <td>Drama Crime History</td>\n",
              "    </tr>\n",
              "    <tr>\n",
              "      <th>241</th>\n",
              "      <td>Clemency</td>\n",
              "      <td>Chinonye Chukwu (director/screenplay); Alfre W...</td>\n",
              "      <td>Drama</td>\n",
              "    </tr>\n",
              "  </tbody>\n",
              "</table>\n",
              "<p>242 rows × 3 columns</p>\n",
              "</div>"
            ],
            "text/plain": [
              "                 Title  ...                                    genres\n",
              "0          Escape Room  ...            Thriller Action Mystery Horror\n",
              "1           Rust Creek  ...                            Thriller Drama\n",
              "2     American Hangman  ...                                  Thriller\n",
              "3     A Dog's Way Home  ...                    Drama Adventure Family\n",
              "4           The Upside  ...                              Comedy Drama\n",
              "..                 ...  ...                                       ...\n",
              "237  Spies in Disguise  ...  Animation Action Adventure Comedy Family\n",
              "238       Little Women  ...                             Drama Romance\n",
              "239               1917  ...                 War Drama Action Thriller\n",
              "240         Just Mercy  ...                       Drama Crime History\n",
              "241           Clemency  ...                                     Drama\n",
              "\n",
              "[242 rows x 3 columns]"
            ]
          },
          "metadata": {},
          "execution_count": 35
        }
      ]
    },
    {
      "cell_type": "code",
      "metadata": {
        "id": "WchkiGL1m5Zf"
      },
      "source": [
        "def get_director(x):\n",
        "    if \" (director)\" in x:\n",
        "        return x.split(\" (director)\")[0]\n",
        "    elif \" (directors)\" in x:\n",
        "        return x.split(\" (directors)\")[0]\n",
        "    else:\n",
        "        return x.split(\" (director/screenplay)\")[0]"
      ],
      "execution_count": 36,
      "outputs": []
    },
    {
      "cell_type": "code",
      "metadata": {
        "colab": {
          "base_uri": "https://localhost:8080/"
        },
        "id": "7AzsgGKTm8XE",
        "outputId": "56938ff8-547e-4ca7-a1b2-1ae6d67a55c1"
      },
      "source": [
        "df_2019['director_name'] = df_2019['Cast and crew'].map(lambda x: get_director(str(x)))"
      ],
      "execution_count": 37,
      "outputs": [
        {
          "output_type": "stream",
          "name": "stderr",
          "text": [
            "/usr/local/lib/python3.7/dist-packages/ipykernel_launcher.py:1: SettingWithCopyWarning: \n",
            "A value is trying to be set on a copy of a slice from a DataFrame.\n",
            "Try using .loc[row_indexer,col_indexer] = value instead\n",
            "\n",
            "See the caveats in the documentation: https://pandas.pydata.org/pandas-docs/stable/user_guide/indexing.html#returning-a-view-versus-a-copy\n",
            "  \"\"\"Entry point for launching an IPython kernel.\n"
          ]
        }
      ]
    },
    {
      "cell_type": "code",
      "metadata": {
        "id": "DWe7FW4tm_34"
      },
      "source": [
        "def get_actor1(x):\n",
        "    return ((x.split(\"screenplay); \")[-1]).split(\", \")[0])"
      ],
      "execution_count": 38,
      "outputs": []
    },
    {
      "cell_type": "code",
      "metadata": {
        "colab": {
          "base_uri": "https://localhost:8080/"
        },
        "id": "NQBvmTEOnCSD",
        "outputId": "aebae3b1-fea7-485f-a1eb-009700f05af7"
      },
      "source": [
        "df_2019['actor_1_name'] = df_2019['Cast and crew'].map(lambda x: get_actor1(x))"
      ],
      "execution_count": 39,
      "outputs": [
        {
          "output_type": "stream",
          "name": "stderr",
          "text": [
            "/usr/local/lib/python3.7/dist-packages/ipykernel_launcher.py:1: SettingWithCopyWarning: \n",
            "A value is trying to be set on a copy of a slice from a DataFrame.\n",
            "Try using .loc[row_indexer,col_indexer] = value instead\n",
            "\n",
            "See the caveats in the documentation: https://pandas.pydata.org/pandas-docs/stable/user_guide/indexing.html#returning-a-view-versus-a-copy\n",
            "  \"\"\"Entry point for launching an IPython kernel.\n"
          ]
        }
      ]
    },
    {
      "cell_type": "code",
      "metadata": {
        "id": "UtOLPoQcnFNm"
      },
      "source": [
        "def get_actor2(x):\n",
        "    if len((x.split(\"screenplay); \")[-1]).split(\", \")) < 2:\n",
        "        return np.NaN\n",
        "    else:\n",
        "        return ((x.split(\"screenplay); \")[-1]).split(\", \")[1])"
      ],
      "execution_count": 40,
      "outputs": []
    },
    {
      "cell_type": "code",
      "metadata": {
        "colab": {
          "base_uri": "https://localhost:8080/"
        },
        "id": "6beQCNRmoYw3",
        "outputId": "9c82a958-161b-4def-fa2e-92e6f405dbda"
      },
      "source": [
        "df_2019['actor_2_name'] = df_2019['Cast and crew'].map(lambda x: get_actor2(x))"
      ],
      "execution_count": 41,
      "outputs": [
        {
          "output_type": "stream",
          "name": "stderr",
          "text": [
            "/usr/local/lib/python3.7/dist-packages/ipykernel_launcher.py:1: SettingWithCopyWarning: \n",
            "A value is trying to be set on a copy of a slice from a DataFrame.\n",
            "Try using .loc[row_indexer,col_indexer] = value instead\n",
            "\n",
            "See the caveats in the documentation: https://pandas.pydata.org/pandas-docs/stable/user_guide/indexing.html#returning-a-view-versus-a-copy\n",
            "  \"\"\"Entry point for launching an IPython kernel.\n"
          ]
        }
      ]
    },
    {
      "cell_type": "code",
      "metadata": {
        "id": "jGKBvFx3ofe3"
      },
      "source": [
        "def get_actor3(x):\n",
        "    if len((x.split(\"screenplay); \")[-1]).split(\", \")) < 3:\n",
        "        return np.NaN\n",
        "    else:\n",
        "        return ((x.split(\"screenplay); \")[-1]).split(\", \")[2])"
      ],
      "execution_count": 42,
      "outputs": []
    },
    {
      "cell_type": "code",
      "metadata": {
        "id": "44AjhpO1oiZI"
      },
      "source": [
        "df_2019['actor_3_name'] = df_2019['Cast and crew'].map(lambda x: get_actor3(x))"
      ],
      "execution_count": 43,
      "outputs": []
    },
    {
      "cell_type": "code",
      "metadata": {
        "id": "DjDygZmLok9t"
      },
      "source": [
        "df_2019 = df_2019.rename(columns={'Title':'movie_title'})"
      ],
      "execution_count": 44,
      "outputs": []
    },
    {
      "cell_type": "code",
      "metadata": {
        "id": "f-3-1izwosXW"
      },
      "source": [
        "new_df19 = df_2019.loc[:,['director_name','actor_1_name','actor_2_name','actor_3_name','genres','movie_title']]"
      ],
      "execution_count": 45,
      "outputs": []
    },
    {
      "cell_type": "code",
      "metadata": {
        "id": "3c9qR_XUoup0"
      },
      "source": [
        "new_df19['actor_2_name'] = new_df19['actor_2_name'].replace(np.nan, 'unknown')\n",
        "new_df19['actor_3_name'] = new_df19['actor_3_name'].replace(np.nan, 'unknown')"
      ],
      "execution_count": 46,
      "outputs": []
    },
    {
      "cell_type": "code",
      "metadata": {
        "id": "8Jp7UFsboxzV"
      },
      "source": [
        "new_df19['movie_title'] = new_df19['movie_title'].str.lower()"
      ],
      "execution_count": 47,
      "outputs": []
    },
    {
      "cell_type": "code",
      "metadata": {
        "id": "GvGaG7PZo0qH"
      },
      "source": [
        "new_df19['comb'] = new_df19['actor_1_name'] + ' ' + new_df19['actor_2_name'] + ' '+ new_df19['actor_3_name'] + ' '+ new_df19['director_name'] +' ' + new_df19['genres']"
      ],
      "execution_count": 48,
      "outputs": []
    },
    {
      "cell_type": "code",
      "metadata": {
        "colab": {
          "base_uri": "https://localhost:8080/",
          "height": 419
        },
        "id": "Ak_gGOe4o3zg",
        "outputId": "94b7f2e6-5f40-456c-acc5-18ec7e7664a9"
      },
      "source": [
        "new_df19"
      ],
      "execution_count": 49,
      "outputs": [
        {
          "output_type": "execute_result",
          "data": {
            "text/html": [
              "<div>\n",
              "<style scoped>\n",
              "    .dataframe tbody tr th:only-of-type {\n",
              "        vertical-align: middle;\n",
              "    }\n",
              "\n",
              "    .dataframe tbody tr th {\n",
              "        vertical-align: top;\n",
              "    }\n",
              "\n",
              "    .dataframe thead th {\n",
              "        text-align: right;\n",
              "    }\n",
              "</style>\n",
              "<table border=\"1\" class=\"dataframe\">\n",
              "  <thead>\n",
              "    <tr style=\"text-align: right;\">\n",
              "      <th></th>\n",
              "      <th>director_name</th>\n",
              "      <th>actor_1_name</th>\n",
              "      <th>actor_2_name</th>\n",
              "      <th>actor_3_name</th>\n",
              "      <th>genres</th>\n",
              "      <th>movie_title</th>\n",
              "      <th>comb</th>\n",
              "    </tr>\n",
              "  </thead>\n",
              "  <tbody>\n",
              "    <tr>\n",
              "      <th>0</th>\n",
              "      <td>Adam Robitel</td>\n",
              "      <td>Taylor Russell</td>\n",
              "      <td>Logan Miller</td>\n",
              "      <td>Deborah Ann Woll</td>\n",
              "      <td>Thriller Action Mystery Horror</td>\n",
              "      <td>escape room</td>\n",
              "      <td>Taylor Russell Logan Miller Deborah Ann Woll A...</td>\n",
              "    </tr>\n",
              "    <tr>\n",
              "      <th>1</th>\n",
              "      <td>Jen McGowan</td>\n",
              "      <td>Hermione Corfield</td>\n",
              "      <td>Jay Paulson</td>\n",
              "      <td>Sean O'Bryan</td>\n",
              "      <td>Thriller Drama</td>\n",
              "      <td>rust creek</td>\n",
              "      <td>Hermione Corfield Jay Paulson Sean O'Bryan Jen...</td>\n",
              "    </tr>\n",
              "    <tr>\n",
              "      <th>2</th>\n",
              "      <td>Wilson Coneybeare</td>\n",
              "      <td>Donald Sutherland</td>\n",
              "      <td>Vincent Kartheiser</td>\n",
              "      <td>Oliver Dennis</td>\n",
              "      <td>Thriller</td>\n",
              "      <td>american hangman</td>\n",
              "      <td>Donald Sutherland Vincent Kartheiser Oliver De...</td>\n",
              "    </tr>\n",
              "    <tr>\n",
              "      <th>3</th>\n",
              "      <td>Charles Martin Smith</td>\n",
              "      <td>Bryce Dallas Howard</td>\n",
              "      <td>Edward James Olmos</td>\n",
              "      <td>Alexandra Shipp</td>\n",
              "      <td>Drama Adventure Family</td>\n",
              "      <td>a dog's way home</td>\n",
              "      <td>Bryce Dallas Howard Edward James Olmos Alexand...</td>\n",
              "    </tr>\n",
              "    <tr>\n",
              "      <th>4</th>\n",
              "      <td>Neil Burger</td>\n",
              "      <td>Bryan Cranston</td>\n",
              "      <td>Kevin Hart</td>\n",
              "      <td>Nicole Kidman</td>\n",
              "      <td>Comedy Drama</td>\n",
              "      <td>the upside</td>\n",
              "      <td>Bryan Cranston Kevin Hart Nicole Kidman Neil B...</td>\n",
              "    </tr>\n",
              "    <tr>\n",
              "      <th>...</th>\n",
              "      <td>...</td>\n",
              "      <td>...</td>\n",
              "      <td>...</td>\n",
              "      <td>...</td>\n",
              "      <td>...</td>\n",
              "      <td>...</td>\n",
              "      <td>...</td>\n",
              "    </tr>\n",
              "    <tr>\n",
              "      <th>237</th>\n",
              "      <td>Nick Bruno, Troy Quane</td>\n",
              "      <td>Will Smith</td>\n",
              "      <td>Tom Holland</td>\n",
              "      <td>Rashida Jones</td>\n",
              "      <td>Animation Action Adventure Comedy Family</td>\n",
              "      <td>spies in disguise</td>\n",
              "      <td>Will Smith Tom Holland Rashida Jones Nick Brun...</td>\n",
              "    </tr>\n",
              "    <tr>\n",
              "      <th>238</th>\n",
              "      <td>Greta Gerwig</td>\n",
              "      <td>Saoirse Ronan</td>\n",
              "      <td>Emma Watson</td>\n",
              "      <td>Florence Pugh</td>\n",
              "      <td>Drama Romance</td>\n",
              "      <td>little women</td>\n",
              "      <td>Saoirse Ronan Emma Watson Florence Pugh Greta ...</td>\n",
              "    </tr>\n",
              "    <tr>\n",
              "      <th>239</th>\n",
              "      <td>Sam Mendes</td>\n",
              "      <td>George MacKay</td>\n",
              "      <td>Dean-Charles Chapman</td>\n",
              "      <td>Mark Strong</td>\n",
              "      <td>War Drama Action Thriller</td>\n",
              "      <td>1917</td>\n",
              "      <td>George MacKay Dean-Charles Chapman Mark Strong...</td>\n",
              "    </tr>\n",
              "    <tr>\n",
              "      <th>240</th>\n",
              "      <td>Destin Daniel Cretton</td>\n",
              "      <td>Michael B. Jordan</td>\n",
              "      <td>Jamie Foxx</td>\n",
              "      <td>Brie Larson</td>\n",
              "      <td>Drama Crime History</td>\n",
              "      <td>just mercy</td>\n",
              "      <td>Michael B. Jordan Jamie Foxx Brie Larson Desti...</td>\n",
              "    </tr>\n",
              "    <tr>\n",
              "      <th>241</th>\n",
              "      <td>Chinonye Chukwu</td>\n",
              "      <td>Alfre Woodard</td>\n",
              "      <td>Wendell Pierce</td>\n",
              "      <td>Aldis Hodge</td>\n",
              "      <td>Drama</td>\n",
              "      <td>clemency</td>\n",
              "      <td>Alfre Woodard Wendell Pierce Aldis Hodge Chino...</td>\n",
              "    </tr>\n",
              "  </tbody>\n",
              "</table>\n",
              "<p>242 rows × 7 columns</p>\n",
              "</div>"
            ],
            "text/plain": [
              "              director_name  ...                                               comb\n",
              "0              Adam Robitel  ...  Taylor Russell Logan Miller Deborah Ann Woll A...\n",
              "1               Jen McGowan  ...  Hermione Corfield Jay Paulson Sean O'Bryan Jen...\n",
              "2         Wilson Coneybeare  ...  Donald Sutherland Vincent Kartheiser Oliver De...\n",
              "3      Charles Martin Smith  ...  Bryce Dallas Howard Edward James Olmos Alexand...\n",
              "4               Neil Burger  ...  Bryan Cranston Kevin Hart Nicole Kidman Neil B...\n",
              "..                      ...  ...                                                ...\n",
              "237  Nick Bruno, Troy Quane  ...  Will Smith Tom Holland Rashida Jones Nick Brun...\n",
              "238            Greta Gerwig  ...  Saoirse Ronan Emma Watson Florence Pugh Greta ...\n",
              "239              Sam Mendes  ...  George MacKay Dean-Charles Chapman Mark Strong...\n",
              "240   Destin Daniel Cretton  ...  Michael B. Jordan Jamie Foxx Brie Larson Desti...\n",
              "241         Chinonye Chukwu  ...  Alfre Woodard Wendell Pierce Aldis Hodge Chino...\n",
              "\n",
              "[242 rows x 7 columns]"
            ]
          },
          "metadata": {},
          "execution_count": 49
        }
      ]
    },
    {
      "cell_type": "code",
      "metadata": {
        "id": "q84jsiMSo75p"
      },
      "source": [
        "my_df = new_df18.append(new_df19,ignore_index=True)"
      ],
      "execution_count": 50,
      "outputs": []
    },
    {
      "cell_type": "code",
      "metadata": {
        "colab": {
          "base_uri": "https://localhost:8080/",
          "height": 419
        },
        "id": "T_Xbsh0bo-Wr",
        "outputId": "6c55d363-a2e4-4316-8ef1-afb4504188aa"
      },
      "source": [
        "my_df"
      ],
      "execution_count": 51,
      "outputs": [
        {
          "output_type": "execute_result",
          "data": {
            "text/html": [
              "<div>\n",
              "<style scoped>\n",
              "    .dataframe tbody tr th:only-of-type {\n",
              "        vertical-align: middle;\n",
              "    }\n",
              "\n",
              "    .dataframe tbody tr th {\n",
              "        vertical-align: top;\n",
              "    }\n",
              "\n",
              "    .dataframe thead th {\n",
              "        text-align: right;\n",
              "    }\n",
              "</style>\n",
              "<table border=\"1\" class=\"dataframe\">\n",
              "  <thead>\n",
              "    <tr style=\"text-align: right;\">\n",
              "      <th></th>\n",
              "      <th>director_name</th>\n",
              "      <th>actor_1_name</th>\n",
              "      <th>actor_2_name</th>\n",
              "      <th>actor_3_name</th>\n",
              "      <th>genres</th>\n",
              "      <th>movie_title</th>\n",
              "      <th>comb</th>\n",
              "    </tr>\n",
              "  </thead>\n",
              "  <tbody>\n",
              "    <tr>\n",
              "      <th>0</th>\n",
              "      <td>Adam Robitel</td>\n",
              "      <td>Lin Shaye</td>\n",
              "      <td>Angus Sampson</td>\n",
              "      <td>Leigh Whannell</td>\n",
              "      <td>Horror Mystery Thriller</td>\n",
              "      <td>insidious: the last key</td>\n",
              "      <td>Lin Shaye Angus Sampson Leigh Whannell Adam Ro...</td>\n",
              "    </tr>\n",
              "    <tr>\n",
              "      <th>1</th>\n",
              "      <td>Lauren Wolkstein</td>\n",
              "      <td>Alex Pettyfer</td>\n",
              "      <td>James Freedson-Jackson</td>\n",
              "      <td>Emily Althaus</td>\n",
              "      <td>Thriller Drama</td>\n",
              "      <td>the strange ones</td>\n",
              "      <td>Alex Pettyfer James Freedson-Jackson Emily Alt...</td>\n",
              "    </tr>\n",
              "    <tr>\n",
              "      <th>2</th>\n",
              "      <td>Simon West</td>\n",
              "      <td>Dominic Cooper</td>\n",
              "      <td>Austin Stowell</td>\n",
              "      <td>Gemma Chan</td>\n",
              "      <td>Action Thriller</td>\n",
              "      <td>stratton</td>\n",
              "      <td>Dominic Cooper Austin Stowell Gemma Chan Simon...</td>\n",
              "    </tr>\n",
              "    <tr>\n",
              "      <th>3</th>\n",
              "      <td>Warwick Thornton</td>\n",
              "      <td>Bryan Brown</td>\n",
              "      <td>Sam Neill</td>\n",
              "      <td>unknown</td>\n",
              "      <td>Drama History Western</td>\n",
              "      <td>sweet country</td>\n",
              "      <td>Bryan Brown Sam Neill unknown Warwick Thornton...</td>\n",
              "    </tr>\n",
              "    <tr>\n",
              "      <th>4</th>\n",
              "      <td>Jaume Collet-Serra</td>\n",
              "      <td>Liam Neeson</td>\n",
              "      <td>Vera Farmiga</td>\n",
              "      <td>Patrick Wilson</td>\n",
              "      <td>Action Thriller</td>\n",
              "      <td>the commuter</td>\n",
              "      <td>Liam Neeson Vera Farmiga Patrick Wilson Jaume ...</td>\n",
              "    </tr>\n",
              "    <tr>\n",
              "      <th>...</th>\n",
              "      <td>...</td>\n",
              "      <td>...</td>\n",
              "      <td>...</td>\n",
              "      <td>...</td>\n",
              "      <td>...</td>\n",
              "      <td>...</td>\n",
              "      <td>...</td>\n",
              "    </tr>\n",
              "    <tr>\n",
              "      <th>507</th>\n",
              "      <td>Nick Bruno, Troy Quane</td>\n",
              "      <td>Will Smith</td>\n",
              "      <td>Tom Holland</td>\n",
              "      <td>Rashida Jones</td>\n",
              "      <td>Animation Action Adventure Comedy Family</td>\n",
              "      <td>spies in disguise</td>\n",
              "      <td>Will Smith Tom Holland Rashida Jones Nick Brun...</td>\n",
              "    </tr>\n",
              "    <tr>\n",
              "      <th>508</th>\n",
              "      <td>Greta Gerwig</td>\n",
              "      <td>Saoirse Ronan</td>\n",
              "      <td>Emma Watson</td>\n",
              "      <td>Florence Pugh</td>\n",
              "      <td>Drama Romance</td>\n",
              "      <td>little women</td>\n",
              "      <td>Saoirse Ronan Emma Watson Florence Pugh Greta ...</td>\n",
              "    </tr>\n",
              "    <tr>\n",
              "      <th>509</th>\n",
              "      <td>Sam Mendes</td>\n",
              "      <td>George MacKay</td>\n",
              "      <td>Dean-Charles Chapman</td>\n",
              "      <td>Mark Strong</td>\n",
              "      <td>War Drama Action Thriller</td>\n",
              "      <td>1917</td>\n",
              "      <td>George MacKay Dean-Charles Chapman Mark Strong...</td>\n",
              "    </tr>\n",
              "    <tr>\n",
              "      <th>510</th>\n",
              "      <td>Destin Daniel Cretton</td>\n",
              "      <td>Michael B. Jordan</td>\n",
              "      <td>Jamie Foxx</td>\n",
              "      <td>Brie Larson</td>\n",
              "      <td>Drama Crime History</td>\n",
              "      <td>just mercy</td>\n",
              "      <td>Michael B. Jordan Jamie Foxx Brie Larson Desti...</td>\n",
              "    </tr>\n",
              "    <tr>\n",
              "      <th>511</th>\n",
              "      <td>Chinonye Chukwu</td>\n",
              "      <td>Alfre Woodard</td>\n",
              "      <td>Wendell Pierce</td>\n",
              "      <td>Aldis Hodge</td>\n",
              "      <td>Drama</td>\n",
              "      <td>clemency</td>\n",
              "      <td>Alfre Woodard Wendell Pierce Aldis Hodge Chino...</td>\n",
              "    </tr>\n",
              "  </tbody>\n",
              "</table>\n",
              "<p>512 rows × 7 columns</p>\n",
              "</div>"
            ],
            "text/plain": [
              "              director_name  ...                                               comb\n",
              "0              Adam Robitel  ...  Lin Shaye Angus Sampson Leigh Whannell Adam Ro...\n",
              "1          Lauren Wolkstein  ...  Alex Pettyfer James Freedson-Jackson Emily Alt...\n",
              "2                Simon West  ...  Dominic Cooper Austin Stowell Gemma Chan Simon...\n",
              "3          Warwick Thornton  ...  Bryan Brown Sam Neill unknown Warwick Thornton...\n",
              "4        Jaume Collet-Serra  ...  Liam Neeson Vera Farmiga Patrick Wilson Jaume ...\n",
              "..                      ...  ...                                                ...\n",
              "507  Nick Bruno, Troy Quane  ...  Will Smith Tom Holland Rashida Jones Nick Brun...\n",
              "508            Greta Gerwig  ...  Saoirse Ronan Emma Watson Florence Pugh Greta ...\n",
              "509              Sam Mendes  ...  George MacKay Dean-Charles Chapman Mark Strong...\n",
              "510   Destin Daniel Cretton  ...  Michael B. Jordan Jamie Foxx Brie Larson Desti...\n",
              "511         Chinonye Chukwu  ...  Alfre Woodard Wendell Pierce Aldis Hodge Chino...\n",
              "\n",
              "[512 rows x 7 columns]"
            ]
          },
          "metadata": {},
          "execution_count": 51
        }
      ]
    },
    {
      "cell_type": "code",
      "metadata": {
        "id": "Bi7Civ6RpDOt"
      },
      "source": [
        "old_df = pd.read_csv('/content/new_data.csv')"
      ],
      "execution_count": 52,
      "outputs": []
    },
    {
      "cell_type": "code",
      "metadata": {
        "colab": {
          "base_uri": "https://localhost:8080/",
          "height": 504
        },
        "id": "k9MykoECpWqI",
        "outputId": "93b0aca2-67eb-4b3b-cc8d-6417a3df8b1f"
      },
      "source": [
        "old_df"
      ],
      "execution_count": 53,
      "outputs": [
        {
          "output_type": "execute_result",
          "data": {
            "text/html": [
              "<div>\n",
              "<style scoped>\n",
              "    .dataframe tbody tr th:only-of-type {\n",
              "        vertical-align: middle;\n",
              "    }\n",
              "\n",
              "    .dataframe tbody tr th {\n",
              "        vertical-align: top;\n",
              "    }\n",
              "\n",
              "    .dataframe thead th {\n",
              "        text-align: right;\n",
              "    }\n",
              "</style>\n",
              "<table border=\"1\" class=\"dataframe\">\n",
              "  <thead>\n",
              "    <tr style=\"text-align: right;\">\n",
              "      <th></th>\n",
              "      <th>director_name</th>\n",
              "      <th>actor_1_name</th>\n",
              "      <th>actor_2_name</th>\n",
              "      <th>actor_3_name</th>\n",
              "      <th>genres</th>\n",
              "      <th>movie_title</th>\n",
              "      <th>comb</th>\n",
              "    </tr>\n",
              "  </thead>\n",
              "  <tbody>\n",
              "    <tr>\n",
              "      <th>0</th>\n",
              "      <td>James Cameron</td>\n",
              "      <td>CCH Pounder</td>\n",
              "      <td>Joel David Moore</td>\n",
              "      <td>Wes Studi</td>\n",
              "      <td>Action Adventure Fantasy Sci-Fi</td>\n",
              "      <td>avatar</td>\n",
              "      <td>CCH Pounder Joel David Moore Wes Studi James C...</td>\n",
              "    </tr>\n",
              "    <tr>\n",
              "      <th>1</th>\n",
              "      <td>Gore Verbinski</td>\n",
              "      <td>Johnny Depp</td>\n",
              "      <td>Orlando Bloom</td>\n",
              "      <td>Jack Davenport</td>\n",
              "      <td>Action Adventure Fantasy</td>\n",
              "      <td>pirates of the caribbean: at world's end</td>\n",
              "      <td>Johnny Depp Orlando Bloom Jack Davenport Gore ...</td>\n",
              "    </tr>\n",
              "    <tr>\n",
              "      <th>2</th>\n",
              "      <td>Sam Mendes</td>\n",
              "      <td>Christoph Waltz</td>\n",
              "      <td>Rory Kinnear</td>\n",
              "      <td>Stephanie Sigman</td>\n",
              "      <td>Action Adventure Thriller</td>\n",
              "      <td>spectre</td>\n",
              "      <td>Christoph Waltz Rory Kinnear Stephanie Sigman ...</td>\n",
              "    </tr>\n",
              "    <tr>\n",
              "      <th>3</th>\n",
              "      <td>Christopher Nolan</td>\n",
              "      <td>Tom Hardy</td>\n",
              "      <td>Christian Bale</td>\n",
              "      <td>Joseph Gordon-Levitt</td>\n",
              "      <td>Action Thriller</td>\n",
              "      <td>the dark knight rises</td>\n",
              "      <td>Tom Hardy Christian Bale Joseph Gordon-Levitt ...</td>\n",
              "    </tr>\n",
              "    <tr>\n",
              "      <th>4</th>\n",
              "      <td>Doug Walker</td>\n",
              "      <td>Doug Walker</td>\n",
              "      <td>Rob Walker</td>\n",
              "      <td>unknown</td>\n",
              "      <td>Documentary</td>\n",
              "      <td>star wars: episode vii - the force awakens    ...</td>\n",
              "      <td>Doug Walker Rob Walker unknown Doug Walker Doc...</td>\n",
              "    </tr>\n",
              "    <tr>\n",
              "      <th>...</th>\n",
              "      <td>...</td>\n",
              "      <td>...</td>\n",
              "      <td>...</td>\n",
              "      <td>...</td>\n",
              "      <td>...</td>\n",
              "      <td>...</td>\n",
              "      <td>...</td>\n",
              "    </tr>\n",
              "    <tr>\n",
              "      <th>4924</th>\n",
              "      <td>Peter Hutchings</td>\n",
              "      <td>Victoria Justice</td>\n",
              "      <td>Eden Sher</td>\n",
              "      <td>Ashley Rickards</td>\n",
              "      <td>Comedy</td>\n",
              "      <td>the outcasts</td>\n",
              "      <td>Victoria Justice Eden Sher Ashley Rickards Pet...</td>\n",
              "    </tr>\n",
              "    <tr>\n",
              "      <th>4925</th>\n",
              "      <td>Patty Jenkins</td>\n",
              "      <td>Gal Gadot</td>\n",
              "      <td>Chris Pine</td>\n",
              "      <td>Robin Wright</td>\n",
              "      <td>Action Adventure Fantasy</td>\n",
              "      <td>wonder woman</td>\n",
              "      <td>Gal Gadot Chris Pine Robin Wright Patty Jenkin...</td>\n",
              "    </tr>\n",
              "    <tr>\n",
              "      <th>4926</th>\n",
              "      <td>Kevin Munroe</td>\n",
              "      <td>Chris Murphy</td>\n",
              "      <td>Ian James Corlett</td>\n",
              "      <td>Matt Olsen</td>\n",
              "      <td>Animation Adventure Comedy Action Family</td>\n",
              "      <td>sly cooper</td>\n",
              "      <td>Chris Murphy Ian James Corlett Matt Olsen Kevi...</td>\n",
              "    </tr>\n",
              "    <tr>\n",
              "      <th>4927</th>\n",
              "      <td>James Ponsoldt</td>\n",
              "      <td>Emma Watson</td>\n",
              "      <td>Tom Hanks</td>\n",
              "      <td>John Boyega</td>\n",
              "      <td>Drama Thriller Sci-Fi</td>\n",
              "      <td>the circle</td>\n",
              "      <td>Emma Watson Tom Hanks John Boyega James Ponsol...</td>\n",
              "    </tr>\n",
              "    <tr>\n",
              "      <th>4928</th>\n",
              "      <td>Trish Sie</td>\n",
              "      <td>Anna Kendrick</td>\n",
              "      <td>Rebel Wilson</td>\n",
              "      <td>Brittany Snow</td>\n",
              "      <td>Comedy</td>\n",
              "      <td>pitch perfect 3</td>\n",
              "      <td>Anna Kendrick Rebel Wilson Brittany Snow Trish...</td>\n",
              "    </tr>\n",
              "  </tbody>\n",
              "</table>\n",
              "<p>4929 rows × 7 columns</p>\n",
              "</div>"
            ],
            "text/plain": [
              "          director_name  ...                                               comb\n",
              "0         James Cameron  ...  CCH Pounder Joel David Moore Wes Studi James C...\n",
              "1        Gore Verbinski  ...  Johnny Depp Orlando Bloom Jack Davenport Gore ...\n",
              "2            Sam Mendes  ...  Christoph Waltz Rory Kinnear Stephanie Sigman ...\n",
              "3     Christopher Nolan  ...  Tom Hardy Christian Bale Joseph Gordon-Levitt ...\n",
              "4           Doug Walker  ...  Doug Walker Rob Walker unknown Doug Walker Doc...\n",
              "...                 ...  ...                                                ...\n",
              "4924    Peter Hutchings  ...  Victoria Justice Eden Sher Ashley Rickards Pet...\n",
              "4925      Patty Jenkins  ...  Gal Gadot Chris Pine Robin Wright Patty Jenkin...\n",
              "4926       Kevin Munroe  ...  Chris Murphy Ian James Corlett Matt Olsen Kevi...\n",
              "4927     James Ponsoldt  ...  Emma Watson Tom Hanks John Boyega James Ponsol...\n",
              "4928          Trish Sie  ...  Anna Kendrick Rebel Wilson Brittany Snow Trish...\n",
              "\n",
              "[4929 rows x 7 columns]"
            ]
          },
          "metadata": {},
          "execution_count": 53
        }
      ]
    },
    {
      "cell_type": "code",
      "metadata": {
        "id": "CxrJXGHSpbXW"
      },
      "source": [
        "final_df = old_df.append(my_df,ignore_index=True)"
      ],
      "execution_count": 54,
      "outputs": []
    },
    {
      "cell_type": "code",
      "metadata": {
        "colab": {
          "base_uri": "https://localhost:8080/",
          "height": 555
        },
        "id": "1j2stQhjpeWz",
        "outputId": "416c453b-3e8e-4989-ae89-d40f1cafa0fe"
      },
      "source": [
        "final_df"
      ],
      "execution_count": 55,
      "outputs": [
        {
          "output_type": "execute_result",
          "data": {
            "text/html": [
              "<div>\n",
              "<style scoped>\n",
              "    .dataframe tbody tr th:only-of-type {\n",
              "        vertical-align: middle;\n",
              "    }\n",
              "\n",
              "    .dataframe tbody tr th {\n",
              "        vertical-align: top;\n",
              "    }\n",
              "\n",
              "    .dataframe thead th {\n",
              "        text-align: right;\n",
              "    }\n",
              "</style>\n",
              "<table border=\"1\" class=\"dataframe\">\n",
              "  <thead>\n",
              "    <tr style=\"text-align: right;\">\n",
              "      <th></th>\n",
              "      <th>director_name</th>\n",
              "      <th>actor_1_name</th>\n",
              "      <th>actor_2_name</th>\n",
              "      <th>actor_3_name</th>\n",
              "      <th>genres</th>\n",
              "      <th>movie_title</th>\n",
              "      <th>comb</th>\n",
              "    </tr>\n",
              "  </thead>\n",
              "  <tbody>\n",
              "    <tr>\n",
              "      <th>0</th>\n",
              "      <td>James Cameron</td>\n",
              "      <td>CCH Pounder</td>\n",
              "      <td>Joel David Moore</td>\n",
              "      <td>Wes Studi</td>\n",
              "      <td>Action Adventure Fantasy Sci-Fi</td>\n",
              "      <td>avatar</td>\n",
              "      <td>CCH Pounder Joel David Moore Wes Studi James C...</td>\n",
              "    </tr>\n",
              "    <tr>\n",
              "      <th>1</th>\n",
              "      <td>Gore Verbinski</td>\n",
              "      <td>Johnny Depp</td>\n",
              "      <td>Orlando Bloom</td>\n",
              "      <td>Jack Davenport</td>\n",
              "      <td>Action Adventure Fantasy</td>\n",
              "      <td>pirates of the caribbean: at world's end</td>\n",
              "      <td>Johnny Depp Orlando Bloom Jack Davenport Gore ...</td>\n",
              "    </tr>\n",
              "    <tr>\n",
              "      <th>2</th>\n",
              "      <td>Sam Mendes</td>\n",
              "      <td>Christoph Waltz</td>\n",
              "      <td>Rory Kinnear</td>\n",
              "      <td>Stephanie Sigman</td>\n",
              "      <td>Action Adventure Thriller</td>\n",
              "      <td>spectre</td>\n",
              "      <td>Christoph Waltz Rory Kinnear Stephanie Sigman ...</td>\n",
              "    </tr>\n",
              "    <tr>\n",
              "      <th>3</th>\n",
              "      <td>Christopher Nolan</td>\n",
              "      <td>Tom Hardy</td>\n",
              "      <td>Christian Bale</td>\n",
              "      <td>Joseph Gordon-Levitt</td>\n",
              "      <td>Action Thriller</td>\n",
              "      <td>the dark knight rises</td>\n",
              "      <td>Tom Hardy Christian Bale Joseph Gordon-Levitt ...</td>\n",
              "    </tr>\n",
              "    <tr>\n",
              "      <th>4</th>\n",
              "      <td>Doug Walker</td>\n",
              "      <td>Doug Walker</td>\n",
              "      <td>Rob Walker</td>\n",
              "      <td>unknown</td>\n",
              "      <td>Documentary</td>\n",
              "      <td>star wars: episode vii - the force awakens    ...</td>\n",
              "      <td>Doug Walker Rob Walker unknown Doug Walker Doc...</td>\n",
              "    </tr>\n",
              "    <tr>\n",
              "      <th>...</th>\n",
              "      <td>...</td>\n",
              "      <td>...</td>\n",
              "      <td>...</td>\n",
              "      <td>...</td>\n",
              "      <td>...</td>\n",
              "      <td>...</td>\n",
              "      <td>...</td>\n",
              "    </tr>\n",
              "    <tr>\n",
              "      <th>5436</th>\n",
              "      <td>Nick Bruno, Troy Quane</td>\n",
              "      <td>Will Smith</td>\n",
              "      <td>Tom Holland</td>\n",
              "      <td>Rashida Jones</td>\n",
              "      <td>Animation Action Adventure Comedy Family</td>\n",
              "      <td>spies in disguise</td>\n",
              "      <td>Will Smith Tom Holland Rashida Jones Nick Brun...</td>\n",
              "    </tr>\n",
              "    <tr>\n",
              "      <th>5437</th>\n",
              "      <td>Greta Gerwig</td>\n",
              "      <td>Saoirse Ronan</td>\n",
              "      <td>Emma Watson</td>\n",
              "      <td>Florence Pugh</td>\n",
              "      <td>Drama Romance</td>\n",
              "      <td>little women</td>\n",
              "      <td>Saoirse Ronan Emma Watson Florence Pugh Greta ...</td>\n",
              "    </tr>\n",
              "    <tr>\n",
              "      <th>5438</th>\n",
              "      <td>Sam Mendes</td>\n",
              "      <td>George MacKay</td>\n",
              "      <td>Dean-Charles Chapman</td>\n",
              "      <td>Mark Strong</td>\n",
              "      <td>War Drama Action Thriller</td>\n",
              "      <td>1917</td>\n",
              "      <td>George MacKay Dean-Charles Chapman Mark Strong...</td>\n",
              "    </tr>\n",
              "    <tr>\n",
              "      <th>5439</th>\n",
              "      <td>Destin Daniel Cretton</td>\n",
              "      <td>Michael B. Jordan</td>\n",
              "      <td>Jamie Foxx</td>\n",
              "      <td>Brie Larson</td>\n",
              "      <td>Drama Crime History</td>\n",
              "      <td>just mercy</td>\n",
              "      <td>Michael B. Jordan Jamie Foxx Brie Larson Desti...</td>\n",
              "    </tr>\n",
              "    <tr>\n",
              "      <th>5440</th>\n",
              "      <td>Chinonye Chukwu</td>\n",
              "      <td>Alfre Woodard</td>\n",
              "      <td>Wendell Pierce</td>\n",
              "      <td>Aldis Hodge</td>\n",
              "      <td>Drama</td>\n",
              "      <td>clemency</td>\n",
              "      <td>Alfre Woodard Wendell Pierce Aldis Hodge Chino...</td>\n",
              "    </tr>\n",
              "  </tbody>\n",
              "</table>\n",
              "<p>5441 rows × 7 columns</p>\n",
              "</div>"
            ],
            "text/plain": [
              "               director_name  ...                                               comb\n",
              "0              James Cameron  ...  CCH Pounder Joel David Moore Wes Studi James C...\n",
              "1             Gore Verbinski  ...  Johnny Depp Orlando Bloom Jack Davenport Gore ...\n",
              "2                 Sam Mendes  ...  Christoph Waltz Rory Kinnear Stephanie Sigman ...\n",
              "3          Christopher Nolan  ...  Tom Hardy Christian Bale Joseph Gordon-Levitt ...\n",
              "4                Doug Walker  ...  Doug Walker Rob Walker unknown Doug Walker Doc...\n",
              "...                      ...  ...                                                ...\n",
              "5436  Nick Bruno, Troy Quane  ...  Will Smith Tom Holland Rashida Jones Nick Brun...\n",
              "5437            Greta Gerwig  ...  Saoirse Ronan Emma Watson Florence Pugh Greta ...\n",
              "5438              Sam Mendes  ...  George MacKay Dean-Charles Chapman Mark Strong...\n",
              "5439   Destin Daniel Cretton  ...  Michael B. Jordan Jamie Foxx Brie Larson Desti...\n",
              "5440         Chinonye Chukwu  ...  Alfre Woodard Wendell Pierce Aldis Hodge Chino...\n",
              "\n",
              "[5441 rows x 7 columns]"
            ]
          },
          "metadata": {},
          "execution_count": 55
        }
      ]
    },
    {
      "cell_type": "code",
      "metadata": {
        "colab": {
          "base_uri": "https://localhost:8080/"
        },
        "id": "HzBaM5mGpitE",
        "outputId": "056a18ab-e025-4c2a-fcae-e0908e77aab1"
      },
      "source": [
        "final_df.isna().sum()"
      ],
      "execution_count": 56,
      "outputs": [
        {
          "output_type": "execute_result",
          "data": {
            "text/plain": [
              "director_name    0\n",
              "actor_1_name     0\n",
              "actor_2_name     0\n",
              "actor_3_name     0\n",
              "genres           3\n",
              "movie_title      0\n",
              "comb             3\n",
              "dtype: int64"
            ]
          },
          "metadata": {},
          "execution_count": 56
        }
      ]
    },
    {
      "cell_type": "code",
      "metadata": {
        "id": "n3MdENJcplRF"
      },
      "source": [
        "final_df = final_df.dropna(how='any')"
      ],
      "execution_count": 57,
      "outputs": []
    },
    {
      "cell_type": "code",
      "metadata": {
        "colab": {
          "base_uri": "https://localhost:8080/"
        },
        "id": "myk8nHNvpnj8",
        "outputId": "1e0f44d4-fd14-4742-d988-63ee3ccb9c5e"
      },
      "source": [
        "final_df.isna().sum()"
      ],
      "execution_count": 58,
      "outputs": [
        {
          "output_type": "execute_result",
          "data": {
            "text/plain": [
              "director_name    0\n",
              "actor_1_name     0\n",
              "actor_2_name     0\n",
              "actor_3_name     0\n",
              "genres           0\n",
              "movie_title      0\n",
              "comb             0\n",
              "dtype: int64"
            ]
          },
          "metadata": {},
          "execution_count": 58
        }
      ]
    },
    {
      "cell_type": "code",
      "metadata": {
        "id": "wSESqis0pr8b"
      },
      "source": [
        "final_df.to_csv('final_data.csv',index=False)"
      ],
      "execution_count": 60,
      "outputs": []
    }
  ]
}